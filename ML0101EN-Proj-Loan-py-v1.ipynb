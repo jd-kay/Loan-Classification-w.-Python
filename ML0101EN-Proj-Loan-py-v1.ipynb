{
 "cells": [
  {
   "cell_type": "markdown",
   "source": "<center>\n    <img src=\"https://cf-courses-data.s3.us.cloud-object-storage.appdomain.cloud/IBMDeveloperSkillsNetwork-ML0101EN-SkillsNetwork/labs/FinalModule_Coursera/images/IDSNlogo.png\" width=\"300\" alt=\"cognitiveclass.ai logo\"  />\n</center>\n\n<h1 align=\"center\"><font size=\"5\">Classification with Python</font></h1>\n",
   "metadata": {
    "button": false,
    "new_sheet": false,
    "run_control": {
     "read_only": false
    },
    "cell_id": "295dd646-7217-4a99-b982-eaed45ea4a5f",
    "deepnote_cell_type": "markdown",
    "deepnote_cell_height": 428
   }
  },
  {
   "cell_type": "markdown",
   "source": "In this notebook we try to practice all the classification algorithms that we have learned in this course.\n\nWe load a dataset using Pandas library, and apply the following algorithms, and find the best one for this specific dataset by accuracy evaluation methods.\n\nLet's first load required libraries:\n",
   "metadata": {
    "button": false,
    "new_sheet": false,
    "run_control": {
     "read_only": false
    },
    "cell_id": "00001-28f85415-1cc1-4880-ac4c-b26ba8e779bf",
    "deepnote_cell_type": "markdown",
    "deepnote_cell_height": 147.59375
   }
  },
  {
   "cell_type": "code",
   "metadata": {
    "button": false,
    "new_sheet": false,
    "run_control": {
     "read_only": false
    },
    "cell_id": "00002-fb74be89-c65e-4f33-8e2b-ab44e6dca6c4",
    "deepnote_to_be_reexecuted": false,
    "source_hash": "e48eccb3",
    "execution_start": 1652130720896,
    "execution_millis": 3627,
    "deepnote_cell_type": "code",
    "deepnote_cell_height": 225
   },
   "source": "import itertools\nimport numpy as np\nimport matplotlib.pyplot as plt\nfrom matplotlib.ticker import NullFormatter\nimport pandas as pd\nimport numpy as np\nimport matplotlib.ticker as ticker\nfrom sklearn import preprocessing\n%matplotlib inline",
   "execution_count": 1,
   "outputs": []
  },
  {
   "cell_type": "markdown",
   "source": "### About dataset\n",
   "metadata": {
    "button": false,
    "new_sheet": false,
    "run_control": {
     "read_only": false
    },
    "cell_id": "00003-3eeb8e8b-a2f3-4cac-a5ed-ce99627e62c1",
    "deepnote_cell_type": "markdown",
    "deepnote_cell_height": 62
   }
  },
  {
   "cell_type": "markdown",
   "source": "This dataset is about past loans. The **Loan_train.csv** data set includes details of 346 customers whose loan are already paid off or defaulted. It includes following fields:\n\n| Field          | Description                                                                           |\n| -------------- | ------------------------------------------------------------------------------------- |\n| Loan_status    | Whether a loan is paid off on in collection                                           |\n| Principal      | Basic principal loan amount at the                                                    |\n| Terms          | Origination terms which can be weekly (7 days), biweekly, and monthly payoff schedule |\n| Effective_date | When the loan got originated and took effects                                         |\n| Due_date       | Since it’s one-time payoff schedule, each loan has one single due date                |\n| Age            | Age of applicant                                                                      |\n| Education      | Education of applicant                                                                |\n| Gender         | The gender of applicant                                                               |\n",
   "metadata": {
    "button": false,
    "new_sheet": false,
    "run_control": {
     "read_only": false
    },
    "cell_id": "00004-b8c02cdb-0bd9-4804-8ad7-e69c3463d52e",
    "deepnote_cell_type": "markdown",
    "deepnote_cell_height": 308.375
   }
  },
  {
   "cell_type": "markdown",
   "source": "Let's download the dataset\n",
   "metadata": {
    "button": false,
    "new_sheet": false,
    "run_control": {
     "read_only": false
    },
    "cell_id": "00005-8635ef06-3579-45c5-9de7-a60cf794f12e",
    "deepnote_cell_type": "markdown",
    "deepnote_cell_height": 52.390625
   }
  },
  {
   "cell_type": "code",
   "metadata": {
    "button": false,
    "new_sheet": false,
    "run_control": {
     "read_only": false
    },
    "cell_id": "00006-2a7be5da-ea3d-4734-bdbf-afda5fa3ea65",
    "deepnote_to_be_reexecuted": false,
    "source_hash": "59931313",
    "execution_start": 1652130724523,
    "execution_millis": 528,
    "deepnote_cell_type": "code",
    "deepnote_cell_height": 313.140625
   },
   "source": "!wget -O loan_train.csv https://cf-courses-data.s3.us.cloud-object-storage.appdomain.cloud/IBMDeveloperSkillsNetwork-ML0101EN-SkillsNetwork/labs/FinalModule_Coursera/data/loan_train.csv",
   "execution_count": 2,
   "outputs": [
    {
     "name": "stdout",
     "text": "--2022-05-09 21:12:04--  https://cf-courses-data.s3.us.cloud-object-storage.appdomain.cloud/IBMDeveloperSkillsNetwork-ML0101EN-SkillsNetwork/labs/FinalModule_Coursera/data/loan_train.csv\nResolving cf-courses-data.s3.us.cloud-object-storage.appdomain.cloud (cf-courses-data.s3.us.cloud-object-storage.appdomain.cloud)... 169.63.118.104\nConnecting to cf-courses-data.s3.us.cloud-object-storage.appdomain.cloud (cf-courses-data.s3.us.cloud-object-storage.appdomain.cloud)|169.63.118.104|:443... connected.\nHTTP request sent, awaiting response... 200 OK\nLength: 23101 (23K) [text/csv]\nSaving to: ‘loan_train.csv’\n\nloan_train.csv      100%[===================>]  22.56K  --.-KB/s    in 0s      \n\n2022-05-09 21:12:04 (242 MB/s) - ‘loan_train.csv’ saved [23101/23101]\n\n",
     "output_type": "stream"
    }
   ]
  },
  {
   "cell_type": "markdown",
   "source": "### Load Data From CSV File\n",
   "metadata": {
    "button": false,
    "new_sheet": false,
    "run_control": {
     "read_only": false
    },
    "cell_id": "00007-f5dfca37-ed80-4e52-b8ce-b01f9e187a1a",
    "deepnote_cell_type": "markdown",
    "deepnote_cell_height": 62
   }
  },
  {
   "cell_type": "code",
   "metadata": {
    "button": false,
    "new_sheet": false,
    "run_control": {
     "read_only": false
    },
    "cell_id": "00008-97dc88b7-c6d9-40ab-9a4f-4b1bffd0ec5c",
    "deepnote_to_be_reexecuted": false,
    "source_hash": "27d8414e",
    "execution_start": 1652130725061,
    "execution_millis": 89,
    "deepnote_cell_type": "code",
    "deepnote_cell_height": 413
   },
   "source": "df = pd.read_csv('loan_train.csv')\ndf.head()",
   "execution_count": 3,
   "outputs": [
    {
     "output_type": "execute_result",
     "execution_count": 3,
     "data": {
      "application/vnd.deepnote.dataframe.v3+json": {
       "column_count": 10,
       "row_count": 5,
       "columns": [
        {
         "name": "Unnamed: 0",
         "dtype": "int64",
         "stats": {
          "unique_count": 5,
          "nan_count": 0,
          "min": "0",
          "max": "6",
          "histogram": [
           {
            "bin_start": 0,
            "bin_end": 0.6,
            "count": 1
           },
           {
            "bin_start": 0.6,
            "bin_end": 1.2,
            "count": 0
           },
           {
            "bin_start": 1.2,
            "bin_end": 1.7999999999999998,
            "count": 0
           },
           {
            "bin_start": 1.7999999999999998,
            "bin_end": 2.4,
            "count": 1
           },
           {
            "bin_start": 2.4,
            "bin_end": 3,
            "count": 0
           },
           {
            "bin_start": 3,
            "bin_end": 3.5999999999999996,
            "count": 1
           },
           {
            "bin_start": 3.5999999999999996,
            "bin_end": 4.2,
            "count": 1
           },
           {
            "bin_start": 4.2,
            "bin_end": 4.8,
            "count": 0
           },
           {
            "bin_start": 4.8,
            "bin_end": 5.3999999999999995,
            "count": 0
           },
           {
            "bin_start": 5.3999999999999995,
            "bin_end": 6,
            "count": 1
           }
          ]
         }
        },
        {
         "name": "Unnamed: 0.1",
         "dtype": "int64",
         "stats": {
          "unique_count": 5,
          "nan_count": 0,
          "min": "0",
          "max": "6",
          "histogram": [
           {
            "bin_start": 0,
            "bin_end": 0.6,
            "count": 1
           },
           {
            "bin_start": 0.6,
            "bin_end": 1.2,
            "count": 0
           },
           {
            "bin_start": 1.2,
            "bin_end": 1.7999999999999998,
            "count": 0
           },
           {
            "bin_start": 1.7999999999999998,
            "bin_end": 2.4,
            "count": 1
           },
           {
            "bin_start": 2.4,
            "bin_end": 3,
            "count": 0
           },
           {
            "bin_start": 3,
            "bin_end": 3.5999999999999996,
            "count": 1
           },
           {
            "bin_start": 3.5999999999999996,
            "bin_end": 4.2,
            "count": 1
           },
           {
            "bin_start": 4.2,
            "bin_end": 4.8,
            "count": 0
           },
           {
            "bin_start": 4.8,
            "bin_end": 5.3999999999999995,
            "count": 0
           },
           {
            "bin_start": 5.3999999999999995,
            "bin_end": 6,
            "count": 1
           }
          ]
         }
        },
        {
         "name": "loan_status",
         "dtype": "object",
         "stats": {
          "unique_count": 1,
          "nan_count": 0,
          "categories": [
           {
            "name": "PAIDOFF",
            "count": 5
           }
          ]
         }
        },
        {
         "name": "Principal",
         "dtype": "int64",
         "stats": {
          "unique_count": 1,
          "nan_count": 0,
          "min": "1000",
          "max": "1000",
          "histogram": [
           {
            "bin_start": 999.5,
            "bin_end": 999.6,
            "count": 0
           },
           {
            "bin_start": 999.6,
            "bin_end": 999.7,
            "count": 0
           },
           {
            "bin_start": 999.7,
            "bin_end": 999.8,
            "count": 0
           },
           {
            "bin_start": 999.8,
            "bin_end": 999.9,
            "count": 0
           },
           {
            "bin_start": 999.9,
            "bin_end": 1000,
            "count": 0
           },
           {
            "bin_start": 1000,
            "bin_end": 1000.1,
            "count": 5
           },
           {
            "bin_start": 1000.1,
            "bin_end": 1000.2,
            "count": 0
           },
           {
            "bin_start": 1000.2,
            "bin_end": 1000.3,
            "count": 0
           },
           {
            "bin_start": 1000.3,
            "bin_end": 1000.4,
            "count": 0
           },
           {
            "bin_start": 1000.4,
            "bin_end": 1000.5,
            "count": 0
           }
          ]
         }
        },
        {
         "name": "terms",
         "dtype": "int64",
         "stats": {
          "unique_count": 2,
          "nan_count": 0,
          "min": "15",
          "max": "30",
          "histogram": [
           {
            "bin_start": 15,
            "bin_end": 16.5,
            "count": 1
           },
           {
            "bin_start": 16.5,
            "bin_end": 18,
            "count": 0
           },
           {
            "bin_start": 18,
            "bin_end": 19.5,
            "count": 0
           },
           {
            "bin_start": 19.5,
            "bin_end": 21,
            "count": 0
           },
           {
            "bin_start": 21,
            "bin_end": 22.5,
            "count": 0
           },
           {
            "bin_start": 22.5,
            "bin_end": 24,
            "count": 0
           },
           {
            "bin_start": 24,
            "bin_end": 25.5,
            "count": 0
           },
           {
            "bin_start": 25.5,
            "bin_end": 27,
            "count": 0
           },
           {
            "bin_start": 27,
            "bin_end": 28.5,
            "count": 0
           },
           {
            "bin_start": 28.5,
            "bin_end": 30,
            "count": 4
           }
          ]
         }
        },
        {
         "name": "effective_date",
         "dtype": "object",
         "stats": {
          "unique_count": 2,
          "nan_count": 0,
          "categories": [
           {
            "name": "9/8/2016",
            "count": 3
           },
           {
            "name": "9/9/2016",
            "count": 2
           }
          ]
         }
        },
        {
         "name": "due_date",
         "dtype": "object",
         "stats": {
          "unique_count": 3,
          "nan_count": 0,
          "categories": [
           {
            "name": "10/7/2016",
            "count": 2
           },
           {
            "name": "10/8/2016",
            "count": 2
           },
           {
            "name": "9/22/2016",
            "count": 1
           }
          ]
         }
        },
        {
         "name": "age",
         "dtype": "int64",
         "stats": {
          "unique_count": 5,
          "nan_count": 0,
          "min": "27",
          "max": "45",
          "histogram": [
           {
            "bin_start": 27,
            "bin_end": 28.8,
            "count": 2
           },
           {
            "bin_start": 28.8,
            "bin_end": 30.6,
            "count": 1
           },
           {
            "bin_start": 30.6,
            "bin_end": 32.4,
            "count": 0
           },
           {
            "bin_start": 32.4,
            "bin_end": 34.2,
            "count": 1
           },
           {
            "bin_start": 34.2,
            "bin_end": 36,
            "count": 0
           },
           {
            "bin_start": 36,
            "bin_end": 37.8,
            "count": 0
           },
           {
            "bin_start": 37.8,
            "bin_end": 39.6,
            "count": 0
           },
           {
            "bin_start": 39.6,
            "bin_end": 41.4,
            "count": 0
           },
           {
            "bin_start": 41.4,
            "bin_end": 43.2,
            "count": 0
           },
           {
            "bin_start": 43.2,
            "bin_end": 45,
            "count": 1
           }
          ]
         }
        },
        {
         "name": "education",
         "dtype": "object",
         "stats": {
          "unique_count": 3,
          "nan_count": 0,
          "categories": [
           {
            "name": "college",
            "count": 3
           },
           {
            "name": "High School or Below",
            "count": 1
           },
           {
            "name": "Bechalor",
            "count": 1
           }
          ]
         }
        },
        {
         "name": "Gender",
         "dtype": "object",
         "stats": {
          "unique_count": 2,
          "nan_count": 0,
          "categories": [
           {
            "name": "male",
            "count": 3
           },
           {
            "name": "female",
            "count": 2
           }
          ]
         }
        },
        {
         "name": "_deepnote_index_column",
         "dtype": "int64"
        }
       ],
       "rows": [
        {
         "Unnamed: 0": 0,
         "Unnamed: 0.1": 0,
         "loan_status": "PAIDOFF",
         "Principal": 1000,
         "terms": 30,
         "effective_date": "9/8/2016",
         "due_date": "10/7/2016",
         "age": 45,
         "education": "High School or Below",
         "Gender": "male",
         "_deepnote_index_column": 0
        },
        {
         "Unnamed: 0": 2,
         "Unnamed: 0.1": 2,
         "loan_status": "PAIDOFF",
         "Principal": 1000,
         "terms": 30,
         "effective_date": "9/8/2016",
         "due_date": "10/7/2016",
         "age": 33,
         "education": "Bechalor",
         "Gender": "female",
         "_deepnote_index_column": 1
        },
        {
         "Unnamed: 0": 3,
         "Unnamed: 0.1": 3,
         "loan_status": "PAIDOFF",
         "Principal": 1000,
         "terms": 15,
         "effective_date": "9/8/2016",
         "due_date": "9/22/2016",
         "age": 27,
         "education": "college",
         "Gender": "male",
         "_deepnote_index_column": 2
        },
        {
         "Unnamed: 0": 4,
         "Unnamed: 0.1": 4,
         "loan_status": "PAIDOFF",
         "Principal": 1000,
         "terms": 30,
         "effective_date": "9/9/2016",
         "due_date": "10/8/2016",
         "age": 28,
         "education": "college",
         "Gender": "female",
         "_deepnote_index_column": 3
        },
        {
         "Unnamed: 0": 6,
         "Unnamed: 0.1": 6,
         "loan_status": "PAIDOFF",
         "Principal": 1000,
         "terms": 30,
         "effective_date": "9/9/2016",
         "due_date": "10/8/2016",
         "age": 29,
         "education": "college",
         "Gender": "male",
         "_deepnote_index_column": 4
        }
       ]
      },
      "text/plain": "   Unnamed: 0  Unnamed: 0.1 loan_status  Principal  terms effective_date  \\\n0           0             0     PAIDOFF       1000     30       9/8/2016   \n1           2             2     PAIDOFF       1000     30       9/8/2016   \n2           3             3     PAIDOFF       1000     15       9/8/2016   \n3           4             4     PAIDOFF       1000     30       9/9/2016   \n4           6             6     PAIDOFF       1000     30       9/9/2016   \n\n    due_date  age             education  Gender  \n0  10/7/2016   45  High School or Below    male  \n1  10/7/2016   33              Bechalor  female  \n2  9/22/2016   27               college    male  \n3  10/8/2016   28               college  female  \n4  10/8/2016   29               college    male  ",
      "text/html": "<div>\n<style scoped>\n    .dataframe tbody tr th:only-of-type {\n        vertical-align: middle;\n    }\n\n    .dataframe tbody tr th {\n        vertical-align: top;\n    }\n\n    .dataframe thead th {\n        text-align: right;\n    }\n</style>\n<table border=\"1\" class=\"dataframe\">\n  <thead>\n    <tr style=\"text-align: right;\">\n      <th></th>\n      <th>Unnamed: 0</th>\n      <th>Unnamed: 0.1</th>\n      <th>loan_status</th>\n      <th>Principal</th>\n      <th>terms</th>\n      <th>effective_date</th>\n      <th>due_date</th>\n      <th>age</th>\n      <th>education</th>\n      <th>Gender</th>\n    </tr>\n  </thead>\n  <tbody>\n    <tr>\n      <th>0</th>\n      <td>0</td>\n      <td>0</td>\n      <td>PAIDOFF</td>\n      <td>1000</td>\n      <td>30</td>\n      <td>9/8/2016</td>\n      <td>10/7/2016</td>\n      <td>45</td>\n      <td>High School or Below</td>\n      <td>male</td>\n    </tr>\n    <tr>\n      <th>1</th>\n      <td>2</td>\n      <td>2</td>\n      <td>PAIDOFF</td>\n      <td>1000</td>\n      <td>30</td>\n      <td>9/8/2016</td>\n      <td>10/7/2016</td>\n      <td>33</td>\n      <td>Bechalor</td>\n      <td>female</td>\n    </tr>\n    <tr>\n      <th>2</th>\n      <td>3</td>\n      <td>3</td>\n      <td>PAIDOFF</td>\n      <td>1000</td>\n      <td>15</td>\n      <td>9/8/2016</td>\n      <td>9/22/2016</td>\n      <td>27</td>\n      <td>college</td>\n      <td>male</td>\n    </tr>\n    <tr>\n      <th>3</th>\n      <td>4</td>\n      <td>4</td>\n      <td>PAIDOFF</td>\n      <td>1000</td>\n      <td>30</td>\n      <td>9/9/2016</td>\n      <td>10/8/2016</td>\n      <td>28</td>\n      <td>college</td>\n      <td>female</td>\n    </tr>\n    <tr>\n      <th>4</th>\n      <td>6</td>\n      <td>6</td>\n      <td>PAIDOFF</td>\n      <td>1000</td>\n      <td>30</td>\n      <td>9/9/2016</td>\n      <td>10/8/2016</td>\n      <td>29</td>\n      <td>college</td>\n      <td>male</td>\n    </tr>\n  </tbody>\n</table>\n</div>"
     },
     "metadata": {}
    }
   ]
  },
  {
   "cell_type": "code",
   "metadata": {
    "cell_id": "00009-cbe21748-3d56-46b5-90be-8abc50a05138",
    "deepnote_to_be_reexecuted": false,
    "source_hash": "14f60b8f",
    "execution_start": 1652130725158,
    "execution_millis": 17,
    "deepnote_cell_type": "code",
    "deepnote_cell_height": 118.1875,
    "deepnote_output_heights": [
     21.1875
    ]
   },
   "source": "df.shape",
   "execution_count": 4,
   "outputs": [
    {
     "output_type": "execute_result",
     "execution_count": 4,
     "data": {
      "text/plain": "(346, 10)"
     },
     "metadata": {}
    }
   ]
  },
  {
   "cell_type": "markdown",
   "source": "### Convert to date time object\n",
   "metadata": {
    "button": false,
    "new_sheet": false,
    "run_control": {
     "read_only": false
    },
    "cell_id": "00010-2d1a9dc1-35f6-4c96-8605-c87fd596a04d",
    "deepnote_cell_type": "markdown",
    "deepnote_cell_height": 62
   }
  },
  {
   "cell_type": "code",
   "metadata": {
    "button": false,
    "new_sheet": false,
    "run_control": {
     "read_only": false
    },
    "cell_id": "00011-d76fc1a9-4ba3-4e06-9c0b-6346466a8d06",
    "deepnote_to_be_reexecuted": false,
    "source_hash": "de074336",
    "execution_start": 1652130725214,
    "execution_millis": 121,
    "deepnote_cell_type": "code",
    "deepnote_cell_height": 431
   },
   "source": "df['due_date'] = pd.to_datetime(df['due_date'])\ndf['effective_date'] = pd.to_datetime(df['effective_date'])\ndf.head()",
   "execution_count": 5,
   "outputs": [
    {
     "output_type": "execute_result",
     "execution_count": 5,
     "data": {
      "application/vnd.deepnote.dataframe.v3+json": {
       "column_count": 10,
       "row_count": 5,
       "columns": [
        {
         "name": "Unnamed: 0",
         "dtype": "int64",
         "stats": {
          "unique_count": 5,
          "nan_count": 0,
          "min": "0",
          "max": "6",
          "histogram": [
           {
            "bin_start": 0,
            "bin_end": 0.6,
            "count": 1
           },
           {
            "bin_start": 0.6,
            "bin_end": 1.2,
            "count": 0
           },
           {
            "bin_start": 1.2,
            "bin_end": 1.7999999999999998,
            "count": 0
           },
           {
            "bin_start": 1.7999999999999998,
            "bin_end": 2.4,
            "count": 1
           },
           {
            "bin_start": 2.4,
            "bin_end": 3,
            "count": 0
           },
           {
            "bin_start": 3,
            "bin_end": 3.5999999999999996,
            "count": 1
           },
           {
            "bin_start": 3.5999999999999996,
            "bin_end": 4.2,
            "count": 1
           },
           {
            "bin_start": 4.2,
            "bin_end": 4.8,
            "count": 0
           },
           {
            "bin_start": 4.8,
            "bin_end": 5.3999999999999995,
            "count": 0
           },
           {
            "bin_start": 5.3999999999999995,
            "bin_end": 6,
            "count": 1
           }
          ]
         }
        },
        {
         "name": "Unnamed: 0.1",
         "dtype": "int64",
         "stats": {
          "unique_count": 5,
          "nan_count": 0,
          "min": "0",
          "max": "6",
          "histogram": [
           {
            "bin_start": 0,
            "bin_end": 0.6,
            "count": 1
           },
           {
            "bin_start": 0.6,
            "bin_end": 1.2,
            "count": 0
           },
           {
            "bin_start": 1.2,
            "bin_end": 1.7999999999999998,
            "count": 0
           },
           {
            "bin_start": 1.7999999999999998,
            "bin_end": 2.4,
            "count": 1
           },
           {
            "bin_start": 2.4,
            "bin_end": 3,
            "count": 0
           },
           {
            "bin_start": 3,
            "bin_end": 3.5999999999999996,
            "count": 1
           },
           {
            "bin_start": 3.5999999999999996,
            "bin_end": 4.2,
            "count": 1
           },
           {
            "bin_start": 4.2,
            "bin_end": 4.8,
            "count": 0
           },
           {
            "bin_start": 4.8,
            "bin_end": 5.3999999999999995,
            "count": 0
           },
           {
            "bin_start": 5.3999999999999995,
            "bin_end": 6,
            "count": 1
           }
          ]
         }
        },
        {
         "name": "loan_status",
         "dtype": "object",
         "stats": {
          "unique_count": 1,
          "nan_count": 0,
          "categories": [
           {
            "name": "PAIDOFF",
            "count": 5
           }
          ]
         }
        },
        {
         "name": "Principal",
         "dtype": "int64",
         "stats": {
          "unique_count": 1,
          "nan_count": 0,
          "min": "1000",
          "max": "1000",
          "histogram": [
           {
            "bin_start": 999.5,
            "bin_end": 999.6,
            "count": 0
           },
           {
            "bin_start": 999.6,
            "bin_end": 999.7,
            "count": 0
           },
           {
            "bin_start": 999.7,
            "bin_end": 999.8,
            "count": 0
           },
           {
            "bin_start": 999.8,
            "bin_end": 999.9,
            "count": 0
           },
           {
            "bin_start": 999.9,
            "bin_end": 1000,
            "count": 0
           },
           {
            "bin_start": 1000,
            "bin_end": 1000.1,
            "count": 5
           },
           {
            "bin_start": 1000.1,
            "bin_end": 1000.2,
            "count": 0
           },
           {
            "bin_start": 1000.2,
            "bin_end": 1000.3,
            "count": 0
           },
           {
            "bin_start": 1000.3,
            "bin_end": 1000.4,
            "count": 0
           },
           {
            "bin_start": 1000.4,
            "bin_end": 1000.5,
            "count": 0
           }
          ]
         }
        },
        {
         "name": "terms",
         "dtype": "int64",
         "stats": {
          "unique_count": 2,
          "nan_count": 0,
          "min": "15",
          "max": "30",
          "histogram": [
           {
            "bin_start": 15,
            "bin_end": 16.5,
            "count": 1
           },
           {
            "bin_start": 16.5,
            "bin_end": 18,
            "count": 0
           },
           {
            "bin_start": 18,
            "bin_end": 19.5,
            "count": 0
           },
           {
            "bin_start": 19.5,
            "bin_end": 21,
            "count": 0
           },
           {
            "bin_start": 21,
            "bin_end": 22.5,
            "count": 0
           },
           {
            "bin_start": 22.5,
            "bin_end": 24,
            "count": 0
           },
           {
            "bin_start": 24,
            "bin_end": 25.5,
            "count": 0
           },
           {
            "bin_start": 25.5,
            "bin_end": 27,
            "count": 0
           },
           {
            "bin_start": 27,
            "bin_end": 28.5,
            "count": 0
           },
           {
            "bin_start": 28.5,
            "bin_end": 30,
            "count": 4
           }
          ]
         }
        },
        {
         "name": "effective_date",
         "dtype": "datetime64[ns]",
         "stats": {
          "unique_count": 2,
          "nan_count": 0,
          "min": "2016-09-08 00:00:00",
          "max": "2016-09-09 00:00:00",
          "histogram": [
           {
            "bin_start": 1473292800000000000,
            "bin_end": 1473301440000000000,
            "count": 3
           },
           {
            "bin_start": 1473301440000000000,
            "bin_end": 1473310080000000000,
            "count": 0
           },
           {
            "bin_start": 1473310080000000000,
            "bin_end": 1473318720000000000,
            "count": 0
           },
           {
            "bin_start": 1473318720000000000,
            "bin_end": 1473327360000000000,
            "count": 0
           },
           {
            "bin_start": 1473327360000000000,
            "bin_end": 1473336000000000000,
            "count": 0
           },
           {
            "bin_start": 1473336000000000000,
            "bin_end": 1473344640000000000,
            "count": 0
           },
           {
            "bin_start": 1473344640000000000,
            "bin_end": 1473353280000000000,
            "count": 0
           },
           {
            "bin_start": 1473353280000000000,
            "bin_end": 1473361920000000000,
            "count": 0
           },
           {
            "bin_start": 1473361920000000000,
            "bin_end": 1473370560000000000,
            "count": 0
           },
           {
            "bin_start": 1473370560000000000,
            "bin_end": 1473379200000000000,
            "count": 2
           }
          ]
         }
        },
        {
         "name": "due_date",
         "dtype": "datetime64[ns]",
         "stats": {
          "unique_count": 3,
          "nan_count": 0,
          "min": "2016-09-22 00:00:00",
          "max": "2016-10-08 00:00:00",
          "histogram": [
           {
            "bin_start": 1474502400000000000,
            "bin_end": 1474640640000000000,
            "count": 1
           },
           {
            "bin_start": 1474640640000000000,
            "bin_end": 1474778880000000000,
            "count": 0
           },
           {
            "bin_start": 1474778880000000000,
            "bin_end": 1474917120000000000,
            "count": 0
           },
           {
            "bin_start": 1474917120000000000,
            "bin_end": 1475055360000000000,
            "count": 0
           },
           {
            "bin_start": 1475055360000000000,
            "bin_end": 1475193600000000000,
            "count": 0
           },
           {
            "bin_start": 1475193600000000000,
            "bin_end": 1475331840000000000,
            "count": 0
           },
           {
            "bin_start": 1475331840000000000,
            "bin_end": 1475470080000000000,
            "count": 0
           },
           {
            "bin_start": 1475470080000000000,
            "bin_end": 1475608320000000000,
            "count": 0
           },
           {
            "bin_start": 1475608320000000000,
            "bin_end": 1475746560000000000,
            "count": 0
           },
           {
            "bin_start": 1475746560000000000,
            "bin_end": 1475884800000000000,
            "count": 4
           }
          ]
         }
        },
        {
         "name": "age",
         "dtype": "int64",
         "stats": {
          "unique_count": 5,
          "nan_count": 0,
          "min": "27",
          "max": "45",
          "histogram": [
           {
            "bin_start": 27,
            "bin_end": 28.8,
            "count": 2
           },
           {
            "bin_start": 28.8,
            "bin_end": 30.6,
            "count": 1
           },
           {
            "bin_start": 30.6,
            "bin_end": 32.4,
            "count": 0
           },
           {
            "bin_start": 32.4,
            "bin_end": 34.2,
            "count": 1
           },
           {
            "bin_start": 34.2,
            "bin_end": 36,
            "count": 0
           },
           {
            "bin_start": 36,
            "bin_end": 37.8,
            "count": 0
           },
           {
            "bin_start": 37.8,
            "bin_end": 39.6,
            "count": 0
           },
           {
            "bin_start": 39.6,
            "bin_end": 41.4,
            "count": 0
           },
           {
            "bin_start": 41.4,
            "bin_end": 43.2,
            "count": 0
           },
           {
            "bin_start": 43.2,
            "bin_end": 45,
            "count": 1
           }
          ]
         }
        },
        {
         "name": "education",
         "dtype": "object",
         "stats": {
          "unique_count": 3,
          "nan_count": 0,
          "categories": [
           {
            "name": "college",
            "count": 3
           },
           {
            "name": "High School or Below",
            "count": 1
           },
           {
            "name": "Bechalor",
            "count": 1
           }
          ]
         }
        },
        {
         "name": "Gender",
         "dtype": "object",
         "stats": {
          "unique_count": 2,
          "nan_count": 0,
          "categories": [
           {
            "name": "male",
            "count": 3
           },
           {
            "name": "female",
            "count": 2
           }
          ]
         }
        },
        {
         "name": "_deepnote_index_column",
         "dtype": "int64"
        }
       ],
       "rows": [
        {
         "Unnamed: 0": 0,
         "Unnamed: 0.1": 0,
         "loan_status": "PAIDOFF",
         "Principal": 1000,
         "terms": 30,
         "effective_date": "2016-09-08T00:00:00.000000",
         "due_date": "2016-10-07T00:00:00.000000",
         "age": 45,
         "education": "High School or Below",
         "Gender": "male",
         "_deepnote_index_column": 0
        },
        {
         "Unnamed: 0": 2,
         "Unnamed: 0.1": 2,
         "loan_status": "PAIDOFF",
         "Principal": 1000,
         "terms": 30,
         "effective_date": "2016-09-08T00:00:00.000000",
         "due_date": "2016-10-07T00:00:00.000000",
         "age": 33,
         "education": "Bechalor",
         "Gender": "female",
         "_deepnote_index_column": 1
        },
        {
         "Unnamed: 0": 3,
         "Unnamed: 0.1": 3,
         "loan_status": "PAIDOFF",
         "Principal": 1000,
         "terms": 15,
         "effective_date": "2016-09-08T00:00:00.000000",
         "due_date": "2016-09-22T00:00:00.000000",
         "age": 27,
         "education": "college",
         "Gender": "male",
         "_deepnote_index_column": 2
        },
        {
         "Unnamed: 0": 4,
         "Unnamed: 0.1": 4,
         "loan_status": "PAIDOFF",
         "Principal": 1000,
         "terms": 30,
         "effective_date": "2016-09-09T00:00:00.000000",
         "due_date": "2016-10-08T00:00:00.000000",
         "age": 28,
         "education": "college",
         "Gender": "female",
         "_deepnote_index_column": 3
        },
        {
         "Unnamed: 0": 6,
         "Unnamed: 0.1": 6,
         "loan_status": "PAIDOFF",
         "Principal": 1000,
         "terms": 30,
         "effective_date": "2016-09-09T00:00:00.000000",
         "due_date": "2016-10-08T00:00:00.000000",
         "age": 29,
         "education": "college",
         "Gender": "male",
         "_deepnote_index_column": 4
        }
       ]
      },
      "text/plain": "   Unnamed: 0  Unnamed: 0.1 loan_status  Principal  terms effective_date  \\\n0           0             0     PAIDOFF       1000     30     2016-09-08   \n1           2             2     PAIDOFF       1000     30     2016-09-08   \n2           3             3     PAIDOFF       1000     15     2016-09-08   \n3           4             4     PAIDOFF       1000     30     2016-09-09   \n4           6             6     PAIDOFF       1000     30     2016-09-09   \n\n    due_date  age             education  Gender  \n0 2016-10-07   45  High School or Below    male  \n1 2016-10-07   33              Bechalor  female  \n2 2016-09-22   27               college    male  \n3 2016-10-08   28               college  female  \n4 2016-10-08   29               college    male  ",
      "text/html": "<div>\n<style scoped>\n    .dataframe tbody tr th:only-of-type {\n        vertical-align: middle;\n    }\n\n    .dataframe tbody tr th {\n        vertical-align: top;\n    }\n\n    .dataframe thead th {\n        text-align: right;\n    }\n</style>\n<table border=\"1\" class=\"dataframe\">\n  <thead>\n    <tr style=\"text-align: right;\">\n      <th></th>\n      <th>Unnamed: 0</th>\n      <th>Unnamed: 0.1</th>\n      <th>loan_status</th>\n      <th>Principal</th>\n      <th>terms</th>\n      <th>effective_date</th>\n      <th>due_date</th>\n      <th>age</th>\n      <th>education</th>\n      <th>Gender</th>\n    </tr>\n  </thead>\n  <tbody>\n    <tr>\n      <th>0</th>\n      <td>0</td>\n      <td>0</td>\n      <td>PAIDOFF</td>\n      <td>1000</td>\n      <td>30</td>\n      <td>2016-09-08</td>\n      <td>2016-10-07</td>\n      <td>45</td>\n      <td>High School or Below</td>\n      <td>male</td>\n    </tr>\n    <tr>\n      <th>1</th>\n      <td>2</td>\n      <td>2</td>\n      <td>PAIDOFF</td>\n      <td>1000</td>\n      <td>30</td>\n      <td>2016-09-08</td>\n      <td>2016-10-07</td>\n      <td>33</td>\n      <td>Bechalor</td>\n      <td>female</td>\n    </tr>\n    <tr>\n      <th>2</th>\n      <td>3</td>\n      <td>3</td>\n      <td>PAIDOFF</td>\n      <td>1000</td>\n      <td>15</td>\n      <td>2016-09-08</td>\n      <td>2016-09-22</td>\n      <td>27</td>\n      <td>college</td>\n      <td>male</td>\n    </tr>\n    <tr>\n      <th>3</th>\n      <td>4</td>\n      <td>4</td>\n      <td>PAIDOFF</td>\n      <td>1000</td>\n      <td>30</td>\n      <td>2016-09-09</td>\n      <td>2016-10-08</td>\n      <td>28</td>\n      <td>college</td>\n      <td>female</td>\n    </tr>\n    <tr>\n      <th>4</th>\n      <td>6</td>\n      <td>6</td>\n      <td>PAIDOFF</td>\n      <td>1000</td>\n      <td>30</td>\n      <td>2016-09-09</td>\n      <td>2016-10-08</td>\n      <td>29</td>\n      <td>college</td>\n      <td>male</td>\n    </tr>\n  </tbody>\n</table>\n</div>"
     },
     "metadata": {}
    }
   ]
  },
  {
   "cell_type": "markdown",
   "source": "# Data visualization and pre-processing\n",
   "metadata": {
    "button": false,
    "new_sheet": false,
    "run_control": {
     "read_only": false
    },
    "cell_id": "00012-d5acdb31-15a2-4f8f-a689-03ba41cd3e17",
    "deepnote_cell_type": "markdown",
    "deepnote_cell_height": 82
   }
  },
  {
   "cell_type": "markdown",
   "source": "Let’s see how many of each class is in our data set\n",
   "metadata": {
    "button": false,
    "new_sheet": false,
    "run_control": {
     "read_only": false
    },
    "cell_id": "00013-65eabcc6-88b7-4e05-aedb-b1a8ba0debbb",
    "deepnote_cell_type": "markdown",
    "deepnote_cell_height": 52.390625
   }
  },
  {
   "cell_type": "code",
   "metadata": {
    "button": false,
    "new_sheet": false,
    "run_control": {
     "read_only": false
    },
    "cell_id": "00014-774c5f4e-3cc6-495f-9324-8c51ec5cf4e8",
    "deepnote_to_be_reexecuted": false,
    "source_hash": "3b19ee2c",
    "execution_start": 1652130725342,
    "execution_millis": 36,
    "deepnote_cell_type": "code",
    "deepnote_cell_height": 156.578125,
    "deepnote_output_heights": [
     59.578125
    ]
   },
   "source": "df['loan_status'].value_counts()",
   "execution_count": 6,
   "outputs": [
    {
     "output_type": "execute_result",
     "execution_count": 6,
     "data": {
      "text/plain": "PAIDOFF       260\nCOLLECTION     86\nName: loan_status, dtype: int64"
     },
     "metadata": {}
    }
   ]
  },
  {
   "cell_type": "markdown",
   "source": "260 people have paid off the loan on time while 86 have gone into collection\n",
   "metadata": {
    "button": false,
    "new_sheet": false,
    "run_control": {
     "read_only": false
    },
    "cell_id": "00015-eb5c8494-b4d0-40ee-9934-827a8b1e5716",
    "deepnote_cell_type": "markdown",
    "deepnote_cell_height": 52.390625
   }
  },
  {
   "cell_type": "markdown",
   "source": "Let's plot some columns to underestand data better:\n",
   "metadata": {
    "cell_id": "00016-9d016393-0e83-47ff-9a7e-8de99f4ce34a",
    "deepnote_cell_type": "markdown",
    "deepnote_cell_height": 52.390625
   }
  },
  {
   "cell_type": "code",
   "metadata": {
    "cell_id": "00017-ae7cf741-b466-42a6-b50d-e6e90c4e9130",
    "deepnote_to_be_reexecuted": false,
    "source_hash": "2f99bc5f",
    "execution_start": 1652130725371,
    "execution_millis": 406,
    "deepnote_cell_type": "code",
    "deepnote_cell_height": 130
   },
   "source": "# notice: installing seaborn might takes a few minutes\n!conda install -c anaconda seaborn -y",
   "execution_count": 7,
   "outputs": [
    {
     "name": "stdout",
     "text": "/bin/bash: conda: command not found\n",
     "output_type": "stream"
    }
   ]
  },
  {
   "cell_type": "code",
   "metadata": {
    "cell_id": "00018-4a76fae4-df0f-4c1c-b7f2-5f28a375b011",
    "deepnote_to_be_reexecuted": false,
    "source_hash": "1192c9b6",
    "execution_start": 1652130725784,
    "execution_millis": 1526,
    "deepnote_cell_type": "code",
    "deepnote_cell_height": 433,
    "deepnote_output_heights": [
     210
    ]
   },
   "source": "import seaborn as sns\n\nbins = np.linspace(df.Principal.min(), df.Principal.max(), 10)\ng = sns.FacetGrid(df, col=\"Gender\", hue=\"loan_status\", palette=\"Set1\", col_wrap=2)\ng.map(plt.hist, 'Principal', bins=bins, ec=\"k\")\n\ng.axes[-1].legend()\nplt.show()",
   "execution_count": 8,
   "outputs": [
    {
     "data": {
      "text/plain": "<Figure size 432x216 with 2 Axes>",
      "image/png": "[encoded data removed]"
     },
     "metadata": {
      "needs_background": "light",
      "image/png": {
       "width": 424,
       "height": 208
      }
     },
     "output_type": "display_data"
    }
   ]
  },
  {
   "cell_type": "code",
   "metadata": {
    "button": false,
    "new_sheet": false,
    "run_control": {
     "read_only": false
    },
    "cell_id": "00019-d23c1a14-ff0a-4c3c-b2d9-0624a5fcbf5e",
    "deepnote_to_be_reexecuted": false,
    "source_hash": "9150f1c2",
    "execution_start": 1652130727021,
    "execution_millis": 1147,
    "deepnote_cell_type": "code",
    "deepnote_cell_height": 397,
    "deepnote_output_heights": [
     210
    ]
   },
   "source": "bins = np.linspace(df.age.min(), df.age.max(), 10)\ng = sns.FacetGrid(df, col=\"Gender\", hue=\"loan_status\", palette=\"Set1\", col_wrap=2)\ng.map(plt.hist, 'age', bins=bins, ec=\"k\")\n\ng.axes[-1].legend()\nplt.show()",
   "execution_count": 9,
   "outputs": [
    {
     "data": {
      "text/plain": "<Figure size 432x216 with 2 Axes>",
      "image/png": "[encoded data removed]"
     },
     "metadata": {
      "needs_background": "light",
      "image/png": {
       "width": 424,
       "height": 208
      }
     },
     "output_type": "display_data"
    }
   ]
  },
  {
   "cell_type": "markdown",
   "source": "# Pre-processing:  Feature selection/extraction\n",
   "metadata": {
    "button": false,
    "new_sheet": false,
    "run_control": {
     "read_only": false
    },
    "cell_id": "00020-a98c2d9d-1a51-4050-958c-12e81c2aacaf",
    "deepnote_cell_type": "markdown",
    "deepnote_cell_height": 134
   }
  },
  {
   "cell_type": "markdown",
   "source": "### Let's look at the day of the week people get the loan\n",
   "metadata": {
    "button": false,
    "new_sheet": false,
    "run_control": {
     "read_only": false
    },
    "cell_id": "00021-ebc9e5b1-5eca-4751-9bbd-5eee59aaf29a",
    "deepnote_cell_type": "markdown",
    "deepnote_cell_height": 62
   }
  },
  {
   "cell_type": "code",
   "metadata": {
    "button": false,
    "new_sheet": false,
    "run_control": {
     "read_only": false
    },
    "cell_id": "00022-633db417-71ab-4503-a245-059503a240dd",
    "deepnote_to_be_reexecuted": false,
    "source_hash": "225658b2",
    "execution_start": 1652130728176,
    "execution_millis": 1012,
    "deepnote_cell_type": "code",
    "deepnote_cell_height": 415,
    "deepnote_output_heights": [
     210
    ]
   },
   "source": "df['dayofweek'] = df['effective_date'].dt.dayofweek\nbins = np.linspace(df.dayofweek.min(), df.dayofweek.max(), 10)\ng = sns.FacetGrid(df, col=\"Gender\", hue=\"loan_status\", palette=\"Set1\", col_wrap=2)\ng.map(plt.hist, 'dayofweek', bins=bins, ec=\"k\")\ng.axes[-1].legend()\nplt.show()\n",
   "execution_count": 10,
   "outputs": [
    {
     "data": {
      "text/plain": "<Figure size 432x216 with 2 Axes>",
      "image/png": "[encoded data removed]"
     },
     "metadata": {
      "needs_background": "light",
      "image/png": {
       "width": 424,
       "height": 208
      }
     },
     "output_type": "display_data"
    }
   ]
  },
  {
   "cell_type": "markdown",
   "source": "We see that people who get the loan at the end of the week don't pay it off, so let's use Feature binarization to set a threshold value less than day 4\n",
   "metadata": {
    "button": false,
    "new_sheet": false,
    "run_control": {
     "read_only": false
    },
    "cell_id": "00023-0160ae14-a328-4a7c-afdd-4236e7538bef",
    "deepnote_cell_type": "markdown",
    "deepnote_cell_height": 74.796875
   }
  },
  {
   "cell_type": "code",
   "metadata": {
    "button": false,
    "new_sheet": false,
    "run_control": {
     "read_only": false
    },
    "cell_id": "00024-a8d5dda3-3579-44d5-841d-faace00117bb",
    "deepnote_to_be_reexecuted": false,
    "source_hash": "42f04474",
    "execution_start": 1652130729228,
    "execution_millis": 109,
    "deepnote_cell_type": "code",
    "deepnote_cell_height": 413
   },
   "source": "df['weekend'] = df['dayofweek'].apply(lambda x: 1 if (x>3)  else 0)\ndf.head()",
   "execution_count": 11,
   "outputs": [
    {
     "output_type": "execute_result",
     "execution_count": 11,
     "data": {
      "application/vnd.deepnote.dataframe.v3+json": {
       "column_count": 12,
       "row_count": 5,
       "columns": [
        {
         "name": "Unnamed: 0",
         "dtype": "int64",
         "stats": {
          "unique_count": 5,
          "nan_count": 0,
          "min": "0",
          "max": "6",
          "histogram": [
           {
            "bin_start": 0,
            "bin_end": 0.6,
            "count": 1
           },
           {
            "bin_start": 0.6,
            "bin_end": 1.2,
            "count": 0
           },
           {
            "bin_start": 1.2,
            "bin_end": 1.7999999999999998,
            "count": 0
           },
           {
            "bin_start": 1.7999999999999998,
            "bin_end": 2.4,
            "count": 1
           },
           {
            "bin_start": 2.4,
            "bin_end": 3,
            "count": 0
           },
           {
            "bin_start": 3,
            "bin_end": 3.5999999999999996,
            "count": 1
           },
           {
            "bin_start": 3.5999999999999996,
            "bin_end": 4.2,
            "count": 1
           },
           {
            "bin_start": 4.2,
            "bin_end": 4.8,
            "count": 0
           },
           {
            "bin_start": 4.8,
            "bin_end": 5.3999999999999995,
            "count": 0
           },
           {
            "bin_start": 5.3999999999999995,
            "bin_end": 6,
            "count": 1
           }
          ]
         }
        },
        {
         "name": "Unnamed: 0.1",
         "dtype": "int64",
         "stats": {
          "unique_count": 5,
          "nan_count": 0,
          "min": "0",
          "max": "6",
          "histogram": [
           {
            "bin_start": 0,
            "bin_end": 0.6,
            "count": 1
           },
           {
            "bin_start": 0.6,
            "bin_end": 1.2,
            "count": 0
           },
           {
            "bin_start": 1.2,
            "bin_end": 1.7999999999999998,
            "count": 0
           },
           {
            "bin_start": 1.7999999999999998,
            "bin_end": 2.4,
            "count": 1
           },
           {
            "bin_start": 2.4,
            "bin_end": 3,
            "count": 0
           },
           {
            "bin_start": 3,
            "bin_end": 3.5999999999999996,
            "count": 1
           },
           {
            "bin_start": 3.5999999999999996,
            "bin_end": 4.2,
            "count": 1
           },
           {
            "bin_start": 4.2,
            "bin_end": 4.8,
            "count": 0
           },
           {
            "bin_start": 4.8,
            "bin_end": 5.3999999999999995,
            "count": 0
           },
           {
            "bin_start": 5.3999999999999995,
            "bin_end": 6,
            "count": 1
           }
          ]
         }
        },
        {
         "name": "loan_status",
         "dtype": "object",
         "stats": {
          "unique_count": 1,
          "nan_count": 0,
          "categories": [
           {
            "name": "PAIDOFF",
            "count": 5
           }
          ]
         }
        },
        {
         "name": "Principal",
         "dtype": "int64",
         "stats": {
          "unique_count": 1,
          "nan_count": 0,
          "min": "1000",
          "max": "1000",
          "histogram": [
           {
            "bin_start": 999.5,
            "bin_end": 999.6,
            "count": 0
           },
           {
            "bin_start": 999.6,
            "bin_end": 999.7,
            "count": 0
           },
           {
            "bin_start": 999.7,
            "bin_end": 999.8,
            "count": 0
           },
           {
            "bin_start": 999.8,
            "bin_end": 999.9,
            "count": 0
           },
           {
            "bin_start": 999.9,
            "bin_end": 1000,
            "count": 0
           },
           {
            "bin_start": 1000,
            "bin_end": 1000.1,
            "count": 5
           },
           {
            "bin_start": 1000.1,
            "bin_end": 1000.2,
            "count": 0
           },
           {
            "bin_start": 1000.2,
            "bin_end": 1000.3,
            "count": 0
           },
           {
            "bin_start": 1000.3,
            "bin_end": 1000.4,
            "count": 0
           },
           {
            "bin_start": 1000.4,
            "bin_end": 1000.5,
            "count": 0
           }
          ]
         }
        },
        {
         "name": "terms",
         "dtype": "int64",
         "stats": {
          "unique_count": 2,
          "nan_count": 0,
          "min": "15",
          "max": "30",
          "histogram": [
           {
            "bin_start": 15,
            "bin_end": 16.5,
            "count": 1
           },
           {
            "bin_start": 16.5,
            "bin_end": 18,
            "count": 0
           },
           {
            "bin_start": 18,
            "bin_end": 19.5,
            "count": 0
           },
           {
            "bin_start": 19.5,
            "bin_end": 21,
            "count": 0
           },
           {
            "bin_start": 21,
            "bin_end": 22.5,
            "count": 0
           },
           {
            "bin_start": 22.5,
            "bin_end": 24,
            "count": 0
           },
           {
            "bin_start": 24,
            "bin_end": 25.5,
            "count": 0
           },
           {
            "bin_start": 25.5,
            "bin_end": 27,
            "count": 0
           },
           {
            "bin_start": 27,
            "bin_end": 28.5,
            "count": 0
           },
           {
            "bin_start": 28.5,
            "bin_end": 30,
            "count": 4
           }
          ]
         }
        },
        {
         "name": "effective_date",
         "dtype": "datetime64[ns]",
         "stats": {
          "unique_count": 2,
          "nan_count": 0,
          "min": "2016-09-08 00:00:00",
          "max": "2016-09-09 00:00:00",
          "histogram": [
           {
            "bin_start": 1473292800000000000,
            "bin_end": 1473301440000000000,
            "count": 3
           },
           {
            "bin_start": 1473301440000000000,
            "bin_end": 1473310080000000000,
            "count": 0
           },
           {
            "bin_start": 1473310080000000000,
            "bin_end": 1473318720000000000,
            "count": 0
           },
           {
            "bin_start": 1473318720000000000,
            "bin_end": 1473327360000000000,
            "count": 0
           },
           {
            "bin_start": 1473327360000000000,
            "bin_end": 1473336000000000000,
            "count": 0
           },
           {
            "bin_start": 1473336000000000000,
            "bin_end": 1473344640000000000,
            "count": 0
           },
           {
            "bin_start": 1473344640000000000,
            "bin_end": 1473353280000000000,
            "count": 0
           },
           {
            "bin_start": 1473353280000000000,
            "bin_end": 1473361920000000000,
            "count": 0
           },
           {
            "bin_start": 1473361920000000000,
            "bin_end": 1473370560000000000,
            "count": 0
           },
           {
            "bin_start": 1473370560000000000,
            "bin_end": 1473379200000000000,
            "count": 2
           }
          ]
         }
        },
        {
         "name": "due_date",
         "dtype": "datetime64[ns]",
         "stats": {
          "unique_count": 3,
          "nan_count": 0,
          "min": "2016-09-22 00:00:00",
          "max": "2016-10-08 00:00:00",
          "histogram": [
           {
            "bin_start": 1474502400000000000,
            "bin_end": 1474640640000000000,
            "count": 1
           },
           {
            "bin_start": 1474640640000000000,
            "bin_end": 1474778880000000000,
            "count": 0
           },
           {
            "bin_start": 1474778880000000000,
            "bin_end": 1474917120000000000,
            "count": 0
           },
           {
            "bin_start": 1474917120000000000,
            "bin_end": 1475055360000000000,
            "count": 0
           },
           {
            "bin_start": 1475055360000000000,
            "bin_end": 1475193600000000000,
            "count": 0
           },
           {
            "bin_start": 1475193600000000000,
            "bin_end": 1475331840000000000,
            "count": 0
           },
           {
            "bin_start": 1475331840000000000,
            "bin_end": 1475470080000000000,
            "count": 0
           },
           {
            "bin_start": 1475470080000000000,
            "bin_end": 1475608320000000000,
            "count": 0
           },
           {
            "bin_start": 1475608320000000000,
            "bin_end": 1475746560000000000,
            "count": 0
           },
           {
            "bin_start": 1475746560000000000,
            "bin_end": 1475884800000000000,
            "count": 4
           }
          ]
         }
        },
        {
         "name": "age",
         "dtype": "int64",
         "stats": {
          "unique_count": 5,
          "nan_count": 0,
          "min": "27",
          "max": "45",
          "histogram": [
           {
            "bin_start": 27,
            "bin_end": 28.8,
            "count": 2
           },
           {
            "bin_start": 28.8,
            "bin_end": 30.6,
            "count": 1
           },
           {
            "bin_start": 30.6,
            "bin_end": 32.4,
            "count": 0
           },
           {
            "bin_start": 32.4,
            "bin_end": 34.2,
            "count": 1
           },
           {
            "bin_start": 34.2,
            "bin_end": 36,
            "count": 0
           },
           {
            "bin_start": 36,
            "bin_end": 37.8,
            "count": 0
           },
           {
            "bin_start": 37.8,
            "bin_end": 39.6,
            "count": 0
           },
           {
            "bin_start": 39.6,
            "bin_end": 41.4,
            "count": 0
           },
           {
            "bin_start": 41.4,
            "bin_end": 43.2,
            "count": 0
           },
           {
            "bin_start": 43.2,
            "bin_end": 45,
            "count": 1
           }
          ]
         }
        },
        {
         "name": "education",
         "dtype": "object",
         "stats": {
          "unique_count": 3,
          "nan_count": 0,
          "categories": [
           {
            "name": "college",
            "count": 3
           },
           {
            "name": "High School or Below",
            "count": 1
           },
           {
            "name": "Bechalor",
            "count": 1
           }
          ]
         }
        },
        {
         "name": "Gender",
         "dtype": "object",
         "stats": {
          "unique_count": 2,
          "nan_count": 0,
          "categories": [
           {
            "name": "male",
            "count": 3
           },
           {
            "name": "female",
            "count": 2
           }
          ]
         }
        },
        {
         "name": "dayofweek",
         "dtype": "int64",
         "stats": {
          "unique_count": 2,
          "nan_count": 0,
          "min": "3",
          "max": "4",
          "histogram": [
           {
            "bin_start": 3,
            "bin_end": 3.1,
            "count": 3
           },
           {
            "bin_start": 3.1,
            "bin_end": 3.2,
            "count": 0
           },
           {
            "bin_start": 3.2,
            "bin_end": 3.3,
            "count": 0
           },
           {
            "bin_start": 3.3,
            "bin_end": 3.4,
            "count": 0
           },
           {
            "bin_start": 3.4,
            "bin_end": 3.5,
            "count": 0
           },
           {
            "bin_start": 3.5,
            "bin_end": 3.6,
            "count": 0
           },
           {
            "bin_start": 3.6,
            "bin_end": 3.7,
            "count": 0
           },
           {
            "bin_start": 3.7,
            "bin_end": 3.8,
            "count": 0
           },
           {
            "bin_start": 3.8,
            "bin_end": 3.9,
            "count": 0
           },
           {
            "bin_start": 3.9,
            "bin_end": 4,
            "count": 2
           }
          ]
         }
        },
        {
         "name": "weekend",
         "dtype": "int64",
         "stats": {
          "unique_count": 2,
          "nan_count": 0,
          "min": "0",
          "max": "1",
          "histogram": [
           {
            "bin_start": 0,
            "bin_end": 0.1,
            "count": 3
           },
           {
            "bin_start": 0.1,
            "bin_end": 0.2,
            "count": 0
           },
           {
            "bin_start": 0.2,
            "bin_end": 0.30000000000000004,
            "count": 0
           },
           {
            "bin_start": 0.30000000000000004,
            "bin_end": 0.4,
            "count": 0
           },
           {
            "bin_start": 0.4,
            "bin_end": 0.5,
            "count": 0
           },
           {
            "bin_start": 0.5,
            "bin_end": 0.6000000000000001,
            "count": 0
           },
           {
            "bin_start": 0.6000000000000001,
            "bin_end": 0.7000000000000001,
            "count": 0
           },
           {
            "bin_start": 0.7000000000000001,
            "bin_end": 0.8,
            "count": 0
           },
           {
            "bin_start": 0.8,
            "bin_end": 0.9,
            "count": 0
           },
           {
            "bin_start": 0.9,
            "bin_end": 1,
            "count": 2
           }
          ]
         }
        },
        {
         "name": "_deepnote_index_column",
         "dtype": "int64"
        }
       ],
       "rows": [
        {
         "Unnamed: 0": 0,
         "Unnamed: 0.1": 0,
         "loan_status": "PAIDOFF",
         "Principal": 1000,
         "terms": 30,
         "effective_date": "2016-09-08T00:00:00.000000",
         "due_date": "2016-10-07T00:00:00.000000",
         "age": 45,
         "education": "High School or Below",
         "Gender": "male",
         "dayofweek": 3,
         "weekend": 0,
         "_deepnote_index_column": 0
        },
        {
         "Unnamed: 0": 2,
         "Unnamed: 0.1": 2,
         "loan_status": "PAIDOFF",
         "Principal": 1000,
         "terms": 30,
         "effective_date": "2016-09-08T00:00:00.000000",
         "due_date": "2016-10-07T00:00:00.000000",
         "age": 33,
         "education": "Bechalor",
         "Gender": "female",
         "dayofweek": 3,
         "weekend": 0,
         "_deepnote_index_column": 1
        },
        {
         "Unnamed: 0": 3,
         "Unnamed: 0.1": 3,
         "loan_status": "PAIDOFF",
         "Principal": 1000,
         "terms": 15,
         "effective_date": "2016-09-08T00:00:00.000000",
         "due_date": "2016-09-22T00:00:00.000000",
         "age": 27,
         "education": "college",
         "Gender": "male",
         "dayofweek": 3,
         "weekend": 0,
         "_deepnote_index_column": 2
        },
        {
         "Unnamed: 0": 4,
         "Unnamed: 0.1": 4,
         "loan_status": "PAIDOFF",
         "Principal": 1000,
         "terms": 30,
         "effective_date": "2016-09-09T00:00:00.000000",
         "due_date": "2016-10-08T00:00:00.000000",
         "age": 28,
         "education": "college",
         "Gender": "female",
         "dayofweek": 4,
         "weekend": 1,
         "_deepnote_index_column": 3
        },
        {
         "Unnamed: 0": 6,
         "Unnamed: 0.1": 6,
         "loan_status": "PAIDOFF",
         "Principal": 1000,
         "terms": 30,
         "effective_date": "2016-09-09T00:00:00.000000",
         "due_date": "2016-10-08T00:00:00.000000",
         "age": 29,
         "education": "college",
         "Gender": "male",
         "dayofweek": 4,
         "weekend": 1,
         "_deepnote_index_column": 4
        }
       ]
      },
      "text/plain": "   Unnamed: 0  Unnamed: 0.1 loan_status  Principal  terms effective_date  \\\n0           0             0     PAIDOFF       1000     30     2016-09-08   \n1           2             2     PAIDOFF       1000     30     2016-09-08   \n2           3             3     PAIDOFF       1000     15     2016-09-08   \n3           4             4     PAIDOFF       1000     30     2016-09-09   \n4           6             6     PAIDOFF       1000     30     2016-09-09   \n\n    due_date  age             education  Gender  dayofweek  weekend  \n0 2016-10-07   45  High School or Below    male          3        0  \n1 2016-10-07   33              Bechalor  female          3        0  \n2 2016-09-22   27               college    male          3        0  \n3 2016-10-08   28               college  female          4        1  \n4 2016-10-08   29               college    male          4        1  ",
      "text/html": "<div>\n<style scoped>\n    .dataframe tbody tr th:only-of-type {\n        vertical-align: middle;\n    }\n\n    .dataframe tbody tr th {\n        vertical-align: top;\n    }\n\n    .dataframe thead th {\n        text-align: right;\n    }\n</style>\n<table border=\"1\" class=\"dataframe\">\n  <thead>\n    <tr style=\"text-align: right;\">\n      <th></th>\n      <th>Unnamed: 0</th>\n      <th>Unnamed: 0.1</th>\n      <th>loan_status</th>\n      <th>Principal</th>\n      <th>terms</th>\n      <th>effective_date</th>\n      <th>due_date</th>\n      <th>age</th>\n      <th>education</th>\n      <th>Gender</th>\n      <th>dayofweek</th>\n      <th>weekend</th>\n    </tr>\n  </thead>\n  <tbody>\n    <tr>\n      <th>0</th>\n      <td>0</td>\n      <td>0</td>\n      <td>PAIDOFF</td>\n      <td>1000</td>\n      <td>30</td>\n      <td>2016-09-08</td>\n      <td>2016-10-07</td>\n      <td>45</td>\n      <td>High School or Below</td>\n      <td>male</td>\n      <td>3</td>\n      <td>0</td>\n    </tr>\n    <tr>\n      <th>1</th>\n      <td>2</td>\n      <td>2</td>\n      <td>PAIDOFF</td>\n      <td>1000</td>\n      <td>30</td>\n      <td>2016-09-08</td>\n      <td>2016-10-07</td>\n      <td>33</td>\n      <td>Bechalor</td>\n      <td>female</td>\n      <td>3</td>\n      <td>0</td>\n    </tr>\n    <tr>\n      <th>2</th>\n      <td>3</td>\n      <td>3</td>\n      <td>PAIDOFF</td>\n      <td>1000</td>\n      <td>15</td>\n      <td>2016-09-08</td>\n      <td>2016-09-22</td>\n      <td>27</td>\n      <td>college</td>\n      <td>male</td>\n      <td>3</td>\n      <td>0</td>\n    </tr>\n    <tr>\n      <th>3</th>\n      <td>4</td>\n      <td>4</td>\n      <td>PAIDOFF</td>\n      <td>1000</td>\n      <td>30</td>\n      <td>2016-09-09</td>\n      <td>2016-10-08</td>\n      <td>28</td>\n      <td>college</td>\n      <td>female</td>\n      <td>4</td>\n      <td>1</td>\n    </tr>\n    <tr>\n      <th>4</th>\n      <td>6</td>\n      <td>6</td>\n      <td>PAIDOFF</td>\n      <td>1000</td>\n      <td>30</td>\n      <td>2016-09-09</td>\n      <td>2016-10-08</td>\n      <td>29</td>\n      <td>college</td>\n      <td>male</td>\n      <td>4</td>\n      <td>1</td>\n    </tr>\n  </tbody>\n</table>\n</div>"
     },
     "metadata": {}
    }
   ]
  },
  {
   "cell_type": "markdown",
   "source": "## Convert Categorical features to numerical values\n",
   "metadata": {
    "button": false,
    "new_sheet": false,
    "run_control": {
     "read_only": false
    },
    "cell_id": "00025-f6c41334-855b-495f-b6f8-815e765e9020",
    "deepnote_cell_type": "markdown",
    "deepnote_cell_height": 70
   }
  },
  {
   "cell_type": "markdown",
   "source": "Let's look at gender:\n",
   "metadata": {
    "button": false,
    "new_sheet": false,
    "run_control": {
     "read_only": false
    },
    "cell_id": "00026-8e51f146-36d3-47b0-aad4-657af8184a13",
    "deepnote_cell_type": "markdown",
    "deepnote_cell_height": 52.390625
   }
  },
  {
   "cell_type": "code",
   "metadata": {
    "button": false,
    "new_sheet": false,
    "run_control": {
     "read_only": false
    },
    "cell_id": "00027-f977ed6b-c20b-4a4f-9dc2-d402d1eece4f",
    "deepnote_to_be_reexecuted": false,
    "source_hash": "229574db",
    "execution_start": 1652130729344,
    "execution_millis": 656,
    "deepnote_cell_type": "code",
    "deepnote_cell_height": 214.171875,
    "deepnote_output_heights": [
     117.171875
    ]
   },
   "source": "df.groupby(['Gender'])['loan_status'].value_counts(normalize=True)",
   "execution_count": 12,
   "outputs": [
    {
     "output_type": "execute_result",
     "execution_count": 12,
     "data": {
      "text/plain": "Gender  loan_status\nfemale  PAIDOFF        0.865385\n        COLLECTION     0.134615\nmale    PAIDOFF        0.731293\n        COLLECTION     0.268707\nName: loan_status, dtype: float64"
     },
     "metadata": {}
    }
   ]
  },
  {
   "cell_type": "markdown",
   "source": "86 % of female pay there loans while only 73 % of males pay there loan\n",
   "metadata": {
    "button": false,
    "new_sheet": false,
    "run_control": {
     "read_only": false
    },
    "cell_id": "00028-48c4e9bb-a8fb-496c-931c-7c4dd8899118",
    "deepnote_cell_type": "markdown",
    "deepnote_cell_height": 52.390625
   }
  },
  {
   "cell_type": "markdown",
   "source": "Let's convert male to 0 and female to 1:\n",
   "metadata": {
    "button": false,
    "new_sheet": false,
    "run_control": {
     "read_only": false
    },
    "cell_id": "00029-b3f489ce-790a-40b5-8cd2-bd18d8c4f556",
    "deepnote_cell_type": "markdown",
    "deepnote_cell_height": 52.390625
   }
  },
  {
   "cell_type": "code",
   "metadata": {
    "button": false,
    "new_sheet": false,
    "run_control": {
     "read_only": false
    },
    "cell_id": "00030-5e383633-f125-48bf-b5ee-bccc10f21206",
    "deepnote_to_be_reexecuted": false,
    "source_hash": "3809837c",
    "execution_start": 1652130729369,
    "execution_millis": 743,
    "deepnote_cell_type": "code",
    "deepnote_cell_height": 413
   },
   "source": "df['Gender'].replace(to_replace=['male','female'], value=[0,1],inplace=True)\ndf.head()",
   "execution_count": 13,
   "outputs": [
    {
     "output_type": "execute_result",
     "execution_count": 13,
     "data": {
      "application/vnd.deepnote.dataframe.v3+json": {
       "column_count": 12,
       "row_count": 5,
       "columns": [
        {
         "name": "Unnamed: 0",
         "dtype": "int64",
         "stats": {
          "unique_count": 5,
          "nan_count": 0,
          "min": "0",
          "max": "6",
          "histogram": [
           {
            "bin_start": 0,
            "bin_end": 0.6,
            "count": 1
           },
           {
            "bin_start": 0.6,
            "bin_end": 1.2,
            "count": 0
           },
           {
            "bin_start": 1.2,
            "bin_end": 1.7999999999999998,
            "count": 0
           },
           {
            "bin_start": 1.7999999999999998,
            "bin_end": 2.4,
            "count": 1
           },
           {
            "bin_start": 2.4,
            "bin_end": 3,
            "count": 0
           },
           {
            "bin_start": 3,
            "bin_end": 3.5999999999999996,
            "count": 1
           },
           {
            "bin_start": 3.5999999999999996,
            "bin_end": 4.2,
            "count": 1
           },
           {
            "bin_start": 4.2,
            "bin_end": 4.8,
            "count": 0
           },
           {
            "bin_start": 4.8,
            "bin_end": 5.3999999999999995,
            "count": 0
           },
           {
            "bin_start": 5.3999999999999995,
            "bin_end": 6,
            "count": 1
           }
          ]
         }
        },
        {
         "name": "Unnamed: 0.1",
         "dtype": "int64",
         "stats": {
          "unique_count": 5,
          "nan_count": 0,
          "min": "0",
          "max": "6",
          "histogram": [
           {
            "bin_start": 0,
            "bin_end": 0.6,
            "count": 1
           },
           {
            "bin_start": 0.6,
            "bin_end": 1.2,
            "count": 0
           },
           {
            "bin_start": 1.2,
            "bin_end": 1.7999999999999998,
            "count": 0
           },
           {
            "bin_start": 1.7999999999999998,
            "bin_end": 2.4,
            "count": 1
           },
           {
            "bin_start": 2.4,
            "bin_end": 3,
            "count": 0
           },
           {
            "bin_start": 3,
            "bin_end": 3.5999999999999996,
            "count": 1
           },
           {
            "bin_start": 3.5999999999999996,
            "bin_end": 4.2,
            "count": 1
           },
           {
            "bin_start": 4.2,
            "bin_end": 4.8,
            "count": 0
           },
           {
            "bin_start": 4.8,
            "bin_end": 5.3999999999999995,
            "count": 0
           },
           {
            "bin_start": 5.3999999999999995,
            "bin_end": 6,
            "count": 1
           }
          ]
         }
        },
        {
         "name": "loan_status",
         "dtype": "object",
         "stats": {
          "unique_count": 1,
          "nan_count": 0,
          "categories": [
           {
            "name": "PAIDOFF",
            "count": 5
           }
          ]
         }
        },
        {
         "name": "Principal",
         "dtype": "int64",
         "stats": {
          "unique_count": 1,
          "nan_count": 0,
          "min": "1000",
          "max": "1000",
          "histogram": [
           {
            "bin_start": 999.5,
            "bin_end": 999.6,
            "count": 0
           },
           {
            "bin_start": 999.6,
            "bin_end": 999.7,
            "count": 0
           },
           {
            "bin_start": 999.7,
            "bin_end": 999.8,
            "count": 0
           },
           {
            "bin_start": 999.8,
            "bin_end": 999.9,
            "count": 0
           },
           {
            "bin_start": 999.9,
            "bin_end": 1000,
            "count": 0
           },
           {
            "bin_start": 1000,
            "bin_end": 1000.1,
            "count": 5
           },
           {
            "bin_start": 1000.1,
            "bin_end": 1000.2,
            "count": 0
           },
           {
            "bin_start": 1000.2,
            "bin_end": 1000.3,
            "count": 0
           },
           {
            "bin_start": 1000.3,
            "bin_end": 1000.4,
            "count": 0
           },
           {
            "bin_start": 1000.4,
            "bin_end": 1000.5,
            "count": 0
           }
          ]
         }
        },
        {
         "name": "terms",
         "dtype": "int64",
         "stats": {
          "unique_count": 2,
          "nan_count": 0,
          "min": "15",
          "max": "30",
          "histogram": [
           {
            "bin_start": 15,
            "bin_end": 16.5,
            "count": 1
           },
           {
            "bin_start": 16.5,
            "bin_end": 18,
            "count": 0
           },
           {
            "bin_start": 18,
            "bin_end": 19.5,
            "count": 0
           },
           {
            "bin_start": 19.5,
            "bin_end": 21,
            "count": 0
           },
           {
            "bin_start": 21,
            "bin_end": 22.5,
            "count": 0
           },
           {
            "bin_start": 22.5,
            "bin_end": 24,
            "count": 0
           },
           {
            "bin_start": 24,
            "bin_end": 25.5,
            "count": 0
           },
           {
            "bin_start": 25.5,
            "bin_end": 27,
            "count": 0
           },
           {
            "bin_start": 27,
            "bin_end": 28.5,
            "count": 0
           },
           {
            "bin_start": 28.5,
            "bin_end": 30,
            "count": 4
           }
          ]
         }
        },
        {
         "name": "effective_date",
         "dtype": "datetime64[ns]",
         "stats": {
          "unique_count": 2,
          "nan_count": 0,
          "min": "2016-09-08 00:00:00",
          "max": "2016-09-09 00:00:00",
          "histogram": [
           {
            "bin_start": 1473292800000000000,
            "bin_end": 1473301440000000000,
            "count": 3
           },
           {
            "bin_start": 1473301440000000000,
            "bin_end": 1473310080000000000,
            "count": 0
           },
           {
            "bin_start": 1473310080000000000,
            "bin_end": 1473318720000000000,
            "count": 0
           },
           {
            "bin_start": 1473318720000000000,
            "bin_end": 1473327360000000000,
            "count": 0
           },
           {
            "bin_start": 1473327360000000000,
            "bin_end": 1473336000000000000,
            "count": 0
           },
           {
            "bin_start": 1473336000000000000,
            "bin_end": 1473344640000000000,
            "count": 0
           },
           {
            "bin_start": 1473344640000000000,
            "bin_end": 1473353280000000000,
            "count": 0
           },
           {
            "bin_start": 1473353280000000000,
            "bin_end": 1473361920000000000,
            "count": 0
           },
           {
            "bin_start": 1473361920000000000,
            "bin_end": 1473370560000000000,
            "count": 0
           },
           {
            "bin_start": 1473370560000000000,
            "bin_end": 1473379200000000000,
            "count": 2
           }
          ]
         }
        },
        {
         "name": "due_date",
         "dtype": "datetime64[ns]",
         "stats": {
          "unique_count": 3,
          "nan_count": 0,
          "min": "2016-09-22 00:00:00",
          "max": "2016-10-08 00:00:00",
          "histogram": [
           {
            "bin_start": 1474502400000000000,
            "bin_end": 1474640640000000000,
            "count": 1
           },
           {
            "bin_start": 1474640640000000000,
            "bin_end": 1474778880000000000,
            "count": 0
           },
           {
            "bin_start": 1474778880000000000,
            "bin_end": 1474917120000000000,
            "count": 0
           },
           {
            "bin_start": 1474917120000000000,
            "bin_end": 1475055360000000000,
            "count": 0
           },
           {
            "bin_start": 1475055360000000000,
            "bin_end": 1475193600000000000,
            "count": 0
           },
           {
            "bin_start": 1475193600000000000,
            "bin_end": 1475331840000000000,
            "count": 0
           },
           {
            "bin_start": 1475331840000000000,
            "bin_end": 1475470080000000000,
            "count": 0
           },
           {
            "bin_start": 1475470080000000000,
            "bin_end": 1475608320000000000,
            "count": 0
           },
           {
            "bin_start": 1475608320000000000,
            "bin_end": 1475746560000000000,
            "count": 0
           },
           {
            "bin_start": 1475746560000000000,
            "bin_end": 1475884800000000000,
            "count": 4
           }
          ]
         }
        },
        {
         "name": "age",
         "dtype": "int64",
         "stats": {
          "unique_count": 5,
          "nan_count": 0,
          "min": "27",
          "max": "45",
          "histogram": [
           {
            "bin_start": 27,
            "bin_end": 28.8,
            "count": 2
           },
           {
            "bin_start": 28.8,
            "bin_end": 30.6,
            "count": 1
           },
           {
            "bin_start": 30.6,
            "bin_end": 32.4,
            "count": 0
           },
           {
            "bin_start": 32.4,
            "bin_end": 34.2,
            "count": 1
           },
           {
            "bin_start": 34.2,
            "bin_end": 36,
            "count": 0
           },
           {
            "bin_start": 36,
            "bin_end": 37.8,
            "count": 0
           },
           {
            "bin_start": 37.8,
            "bin_end": 39.6,
            "count": 0
           },
           {
            "bin_start": 39.6,
            "bin_end": 41.4,
            "count": 0
           },
           {
            "bin_start": 41.4,
            "bin_end": 43.2,
            "count": 0
           },
           {
            "bin_start": 43.2,
            "bin_end": 45,
            "count": 1
           }
          ]
         }
        },
        {
         "name": "education",
         "dtype": "object",
         "stats": {
          "unique_count": 3,
          "nan_count": 0,
          "categories": [
           {
            "name": "college",
            "count": 3
           },
           {
            "name": "High School or Below",
            "count": 1
           },
           {
            "name": "Bechalor",
            "count": 1
           }
          ]
         }
        },
        {
         "name": "Gender",
         "dtype": "int64",
         "stats": {
          "unique_count": 2,
          "nan_count": 0,
          "min": "0",
          "max": "1",
          "histogram": [
           {
            "bin_start": 0,
            "bin_end": 0.1,
            "count": 3
           },
           {
            "bin_start": 0.1,
            "bin_end": 0.2,
            "count": 0
           },
           {
            "bin_start": 0.2,
            "bin_end": 0.30000000000000004,
            "count": 0
           },
           {
            "bin_start": 0.30000000000000004,
            "bin_end": 0.4,
            "count": 0
           },
           {
            "bin_start": 0.4,
            "bin_end": 0.5,
            "count": 0
           },
           {
            "bin_start": 0.5,
            "bin_end": 0.6000000000000001,
            "count": 0
           },
           {
            "bin_start": 0.6000000000000001,
            "bin_end": 0.7000000000000001,
            "count": 0
           },
           {
            "bin_start": 0.7000000000000001,
            "bin_end": 0.8,
            "count": 0
           },
           {
            "bin_start": 0.8,
            "bin_end": 0.9,
            "count": 0
           },
           {
            "bin_start": 0.9,
            "bin_end": 1,
            "count": 2
           }
          ]
         }
        },
        {
         "name": "dayofweek",
         "dtype": "int64",
         "stats": {
          "unique_count": 2,
          "nan_count": 0,
          "min": "3",
          "max": "4",
          "histogram": [
           {
            "bin_start": 3,
            "bin_end": 3.1,
            "count": 3
           },
           {
            "bin_start": 3.1,
            "bin_end": 3.2,
            "count": 0
           },
           {
            "bin_start": 3.2,
            "bin_end": 3.3,
            "count": 0
           },
           {
            "bin_start": 3.3,
            "bin_end": 3.4,
            "count": 0
           },
           {
            "bin_start": 3.4,
            "bin_end": 3.5,
            "count": 0
           },
           {
            "bin_start": 3.5,
            "bin_end": 3.6,
            "count": 0
           },
           {
            "bin_start": 3.6,
            "bin_end": 3.7,
            "count": 0
           },
           {
            "bin_start": 3.7,
            "bin_end": 3.8,
            "count": 0
           },
           {
            "bin_start": 3.8,
            "bin_end": 3.9,
            "count": 0
           },
           {
            "bin_start": 3.9,
            "bin_end": 4,
            "count": 2
           }
          ]
         }
        },
        {
         "name": "weekend",
         "dtype": "int64",
         "stats": {
          "unique_count": 2,
          "nan_count": 0,
          "min": "0",
          "max": "1",
          "histogram": [
           {
            "bin_start": 0,
            "bin_end": 0.1,
            "count": 3
           },
           {
            "bin_start": 0.1,
            "bin_end": 0.2,
            "count": 0
           },
           {
            "bin_start": 0.2,
            "bin_end": 0.30000000000000004,
            "count": 0
           },
           {
            "bin_start": 0.30000000000000004,
            "bin_end": 0.4,
            "count": 0
           },
           {
            "bin_start": 0.4,
            "bin_end": 0.5,
            "count": 0
           },
           {
            "bin_start": 0.5,
            "bin_end": 0.6000000000000001,
            "count": 0
           },
           {
            "bin_start": 0.6000000000000001,
            "bin_end": 0.7000000000000001,
            "count": 0
           },
           {
            "bin_start": 0.7000000000000001,
            "bin_end": 0.8,
            "count": 0
           },
           {
            "bin_start": 0.8,
            "bin_end": 0.9,
            "count": 0
           },
           {
            "bin_start": 0.9,
            "bin_end": 1,
            "count": 2
           }
          ]
         }
        },
        {
         "name": "_deepnote_index_column",
         "dtype": "int64"
        }
       ],
       "rows": [
        {
         "Unnamed: 0": 0,
         "Unnamed: 0.1": 0,
         "loan_status": "PAIDOFF",
         "Principal": 1000,
         "terms": 30,
         "effective_date": "2016-09-08T00:00:00.000000",
         "due_date": "2016-10-07T00:00:00.000000",
         "age": 45,
         "education": "High School or Below",
         "Gender": 0,
         "dayofweek": 3,
         "weekend": 0,
         "_deepnote_index_column": 0
        },
        {
         "Unnamed: 0": 2,
         "Unnamed: 0.1": 2,
         "loan_status": "PAIDOFF",
         "Principal": 1000,
         "terms": 30,
         "effective_date": "2016-09-08T00:00:00.000000",
         "due_date": "2016-10-07T00:00:00.000000",
         "age": 33,
         "education": "Bechalor",
         "Gender": 1,
         "dayofweek": 3,
         "weekend": 0,
         "_deepnote_index_column": 1
        },
        {
         "Unnamed: 0": 3,
         "Unnamed: 0.1": 3,
         "loan_status": "PAIDOFF",
         "Principal": 1000,
         "terms": 15,
         "effective_date": "2016-09-08T00:00:00.000000",
         "due_date": "2016-09-22T00:00:00.000000",
         "age": 27,
         "education": "college",
         "Gender": 0,
         "dayofweek": 3,
         "weekend": 0,
         "_deepnote_index_column": 2
        },
        {
         "Unnamed: 0": 4,
         "Unnamed: 0.1": 4,
         "loan_status": "PAIDOFF",
         "Principal": 1000,
         "terms": 30,
         "effective_date": "2016-09-09T00:00:00.000000",
         "due_date": "2016-10-08T00:00:00.000000",
         "age": 28,
         "education": "college",
         "Gender": 1,
         "dayofweek": 4,
         "weekend": 1,
         "_deepnote_index_column": 3
        },
        {
         "Unnamed: 0": 6,
         "Unnamed: 0.1": 6,
         "loan_status": "PAIDOFF",
         "Principal": 1000,
         "terms": 30,
         "effective_date": "2016-09-09T00:00:00.000000",
         "due_date": "2016-10-08T00:00:00.000000",
         "age": 29,
         "education": "college",
         "Gender": 0,
         "dayofweek": 4,
         "weekend": 1,
         "_deepnote_index_column": 4
        }
       ]
      },
      "text/plain": "   Unnamed: 0  Unnamed: 0.1 loan_status  Principal  terms effective_date  \\\n0           0             0     PAIDOFF       1000     30     2016-09-08   \n1           2             2     PAIDOFF       1000     30     2016-09-08   \n2           3             3     PAIDOFF       1000     15     2016-09-08   \n3           4             4     PAIDOFF       1000     30     2016-09-09   \n4           6             6     PAIDOFF       1000     30     2016-09-09   \n\n    due_date  age             education  Gender  dayofweek  weekend  \n0 2016-10-07   45  High School or Below       0          3        0  \n1 2016-10-07   33              Bechalor       1          3        0  \n2 2016-09-22   27               college       0          3        0  \n3 2016-10-08   28               college       1          4        1  \n4 2016-10-08   29               college       0          4        1  ",
      "text/html": "<div>\n<style scoped>\n    .dataframe tbody tr th:only-of-type {\n        vertical-align: middle;\n    }\n\n    .dataframe tbody tr th {\n        vertical-align: top;\n    }\n\n    .dataframe thead th {\n        text-align: right;\n    }\n</style>\n<table border=\"1\" class=\"dataframe\">\n  <thead>\n    <tr style=\"text-align: right;\">\n      <th></th>\n      <th>Unnamed: 0</th>\n      <th>Unnamed: 0.1</th>\n      <th>loan_status</th>\n      <th>Principal</th>\n      <th>terms</th>\n      <th>effective_date</th>\n      <th>due_date</th>\n      <th>age</th>\n      <th>education</th>\n      <th>Gender</th>\n      <th>dayofweek</th>\n      <th>weekend</th>\n    </tr>\n  </thead>\n  <tbody>\n    <tr>\n      <th>0</th>\n      <td>0</td>\n      <td>0</td>\n      <td>PAIDOFF</td>\n      <td>1000</td>\n      <td>30</td>\n      <td>2016-09-08</td>\n      <td>2016-10-07</td>\n      <td>45</td>\n      <td>High School or Below</td>\n      <td>0</td>\n      <td>3</td>\n      <td>0</td>\n    </tr>\n    <tr>\n      <th>1</th>\n      <td>2</td>\n      <td>2</td>\n      <td>PAIDOFF</td>\n      <td>1000</td>\n      <td>30</td>\n      <td>2016-09-08</td>\n      <td>2016-10-07</td>\n      <td>33</td>\n      <td>Bechalor</td>\n      <td>1</td>\n      <td>3</td>\n      <td>0</td>\n    </tr>\n    <tr>\n      <th>2</th>\n      <td>3</td>\n      <td>3</td>\n      <td>PAIDOFF</td>\n      <td>1000</td>\n      <td>15</td>\n      <td>2016-09-08</td>\n      <td>2016-09-22</td>\n      <td>27</td>\n      <td>college</td>\n      <td>0</td>\n      <td>3</td>\n      <td>0</td>\n    </tr>\n    <tr>\n      <th>3</th>\n      <td>4</td>\n      <td>4</td>\n      <td>PAIDOFF</td>\n      <td>1000</td>\n      <td>30</td>\n      <td>2016-09-09</td>\n      <td>2016-10-08</td>\n      <td>28</td>\n      <td>college</td>\n      <td>1</td>\n      <td>4</td>\n      <td>1</td>\n    </tr>\n    <tr>\n      <th>4</th>\n      <td>6</td>\n      <td>6</td>\n      <td>PAIDOFF</td>\n      <td>1000</td>\n      <td>30</td>\n      <td>2016-09-09</td>\n      <td>2016-10-08</td>\n      <td>29</td>\n      <td>college</td>\n      <td>0</td>\n      <td>4</td>\n      <td>1</td>\n    </tr>\n  </tbody>\n</table>\n</div>"
     },
     "metadata": {}
    }
   ]
  },
  {
   "cell_type": "markdown",
   "source": "## One Hot Encoding\n\n#### How about education?\n",
   "metadata": {
    "button": false,
    "new_sheet": false,
    "run_control": {
     "read_only": false
    },
    "cell_id": "00031-4c00c437-fd08-4b59-9196-2f399a5f67c4",
    "deepnote_cell_type": "markdown",
    "deepnote_cell_height": 110
   }
  },
  {
   "cell_type": "code",
   "metadata": {
    "button": false,
    "new_sheet": false,
    "run_control": {
     "read_only": false
    },
    "cell_id": "00032-daa5f763-0a88-461e-892d-f3ccaa98fdf0",
    "deepnote_to_be_reexecuted": false,
    "source_hash": "c68e20c8",
    "execution_start": 1652130729478,
    "execution_millis": 651,
    "deepnote_cell_type": "code",
    "deepnote_cell_height": 290.953125,
    "deepnote_output_heights": [
     193.953125
    ]
   },
   "source": "df.groupby(['education'])['loan_status'].value_counts(normalize=True)",
   "execution_count": 14,
   "outputs": [
    {
     "output_type": "execute_result",
     "execution_count": 14,
     "data": {
      "text/plain": "education             loan_status\nBechalor              PAIDOFF        0.750000\n                      COLLECTION     0.250000\nHigh School or Below  PAIDOFF        0.741722\n                      COLLECTION     0.258278\nMaster or Above       COLLECTION     0.500000\n                      PAIDOFF        0.500000\ncollege               PAIDOFF        0.765101\n                      COLLECTION     0.234899\nName: loan_status, dtype: float64"
     },
     "metadata": {}
    }
   ]
  },
  {
   "cell_type": "markdown",
   "source": "#### Features before One Hot Encoding\n",
   "metadata": {
    "button": false,
    "new_sheet": false,
    "run_control": {
     "read_only": false
    },
    "cell_id": "00033-ee915038-b480-4166-9199-c2c80fa8527f",
    "deepnote_cell_type": "markdown",
    "deepnote_cell_height": 54
   }
  },
  {
   "cell_type": "code",
   "metadata": {
    "button": false,
    "new_sheet": false,
    "run_control": {
     "read_only": false
    },
    "cell_id": "00034-71fe6564-cdae-41fe-bd1d-b29ad4e81cad",
    "deepnote_to_be_reexecuted": false,
    "source_hash": "e38bf57b",
    "execution_start": 1652130729498,
    "execution_millis": 645,
    "deepnote_cell_type": "code",
    "deepnote_cell_height": 395
   },
   "source": "df[['Principal','terms','age','Gender','education']].head()",
   "execution_count": 15,
   "outputs": [
    {
     "output_type": "execute_result",
     "execution_count": 15,
     "data": {
      "application/vnd.deepnote.dataframe.v3+json": {
       "column_count": 5,
       "row_count": 5,
       "columns": [
        {
         "name": "Principal",
         "dtype": "int64",
         "stats": {
          "unique_count": 1,
          "nan_count": 0,
          "min": "1000",
          "max": "1000",
          "histogram": [
           {
            "bin_start": 999.5,
            "bin_end": 999.6,
            "count": 0
           },
           {
            "bin_start": 999.6,
            "bin_end": 999.7,
            "count": 0
           },
           {
            "bin_start": 999.7,
            "bin_end": 999.8,
            "count": 0
           },
           {
            "bin_start": 999.8,
            "bin_end": 999.9,
            "count": 0
           },
           {
            "bin_start": 999.9,
            "bin_end": 1000,
            "count": 0
           },
           {
            "bin_start": 1000,
            "bin_end": 1000.1,
            "count": 5
           },
           {
            "bin_start": 1000.1,
            "bin_end": 1000.2,
            "count": 0
           },
           {
            "bin_start": 1000.2,
            "bin_end": 1000.3,
            "count": 0
           },
           {
            "bin_start": 1000.3,
            "bin_end": 1000.4,
            "count": 0
           },
           {
            "bin_start": 1000.4,
            "bin_end": 1000.5,
            "count": 0
           }
          ]
         }
        },
        {
         "name": "terms",
         "dtype": "int64",
         "stats": {
          "unique_count": 2,
          "nan_count": 0,
          "min": "15",
          "max": "30",
          "histogram": [
           {
            "bin_start": 15,
            "bin_end": 16.5,
            "count": 1
           },
           {
            "bin_start": 16.5,
            "bin_end": 18,
            "count": 0
           },
           {
            "bin_start": 18,
            "bin_end": 19.5,
            "count": 0
           },
           {
            "bin_start": 19.5,
            "bin_end": 21,
            "count": 0
           },
           {
            "bin_start": 21,
            "bin_end": 22.5,
            "count": 0
           },
           {
            "bin_start": 22.5,
            "bin_end": 24,
            "count": 0
           },
           {
            "bin_start": 24,
            "bin_end": 25.5,
            "count": 0
           },
           {
            "bin_start": 25.5,
            "bin_end": 27,
            "count": 0
           },
           {
            "bin_start": 27,
            "bin_end": 28.5,
            "count": 0
           },
           {
            "bin_start": 28.5,
            "bin_end": 30,
            "count": 4
           }
          ]
         }
        },
        {
         "name": "age",
         "dtype": "int64",
         "stats": {
          "unique_count": 5,
          "nan_count": 0,
          "min": "27",
          "max": "45",
          "histogram": [
           {
            "bin_start": 27,
            "bin_end": 28.8,
            "count": 2
           },
           {
            "bin_start": 28.8,
            "bin_end": 30.6,
            "count": 1
           },
           {
            "bin_start": 30.6,
            "bin_end": 32.4,
            "count": 0
           },
           {
            "bin_start": 32.4,
            "bin_end": 34.2,
            "count": 1
           },
           {
            "bin_start": 34.2,
            "bin_end": 36,
            "count": 0
           },
           {
            "bin_start": 36,
            "bin_end": 37.8,
            "count": 0
           },
           {
            "bin_start": 37.8,
            "bin_end": 39.6,
            "count": 0
           },
           {
            "bin_start": 39.6,
            "bin_end": 41.4,
            "count": 0
           },
           {
            "bin_start": 41.4,
            "bin_end": 43.2,
            "count": 0
           },
           {
            "bin_start": 43.2,
            "bin_end": 45,
            "count": 1
           }
          ]
         }
        },
        {
         "name": "Gender",
         "dtype": "int64",
         "stats": {
          "unique_count": 2,
          "nan_count": 0,
          "min": "0",
          "max": "1",
          "histogram": [
           {
            "bin_start": 0,
            "bin_end": 0.1,
            "count": 3
           },
           {
            "bin_start": 0.1,
            "bin_end": 0.2,
            "count": 0
           },
           {
            "bin_start": 0.2,
            "bin_end": 0.30000000000000004,
            "count": 0
           },
           {
            "bin_start": 0.30000000000000004,
            "bin_end": 0.4,
            "count": 0
           },
           {
            "bin_start": 0.4,
            "bin_end": 0.5,
            "count": 0
           },
           {
            "bin_start": 0.5,
            "bin_end": 0.6000000000000001,
            "count": 0
           },
           {
            "bin_start": 0.6000000000000001,
            "bin_end": 0.7000000000000001,
            "count": 0
           },
           {
            "bin_start": 0.7000000000000001,
            "bin_end": 0.8,
            "count": 0
           },
           {
            "bin_start": 0.8,
            "bin_end": 0.9,
            "count": 0
           },
           {
            "bin_start": 0.9,
            "bin_end": 1,
            "count": 2
           }
          ]
         }
        },
        {
         "name": "education",
         "dtype": "object",
         "stats": {
          "unique_count": 3,
          "nan_count": 0,
          "categories": [
           {
            "name": "college",
            "count": 3
           },
           {
            "name": "High School or Below",
            "count": 1
           },
           {
            "name": "Bechalor",
            "count": 1
           }
          ]
         }
        },
        {
         "name": "_deepnote_index_column",
         "dtype": "int64"
        }
       ],
       "rows": [
        {
         "Principal": 1000,
         "terms": 30,
         "age": 45,
         "Gender": 0,
         "education": "High School or Below",
         "_deepnote_index_column": 0
        },
        {
         "Principal": 1000,
         "terms": 30,
         "age": 33,
         "Gender": 1,
         "education": "Bechalor",
         "_deepnote_index_column": 1
        },
        {
         "Principal": 1000,
         "terms": 15,
         "age": 27,
         "Gender": 0,
         "education": "college",
         "_deepnote_index_column": 2
        },
        {
         "Principal": 1000,
         "terms": 30,
         "age": 28,
         "Gender": 1,
         "education": "college",
         "_deepnote_index_column": 3
        },
        {
         "Principal": 1000,
         "terms": 30,
         "age": 29,
         "Gender": 0,
         "education": "college",
         "_deepnote_index_column": 4
        }
       ]
      },
      "text/plain": "   Principal  terms  age  Gender             education\n0       1000     30   45       0  High School or Below\n1       1000     30   33       1              Bechalor\n2       1000     15   27       0               college\n3       1000     30   28       1               college\n4       1000     30   29       0               college",
      "text/html": "<div>\n<style scoped>\n    .dataframe tbody tr th:only-of-type {\n        vertical-align: middle;\n    }\n\n    .dataframe tbody tr th {\n        vertical-align: top;\n    }\n\n    .dataframe thead th {\n        text-align: right;\n    }\n</style>\n<table border=\"1\" class=\"dataframe\">\n  <thead>\n    <tr style=\"text-align: right;\">\n      <th></th>\n      <th>Principal</th>\n      <th>terms</th>\n      <th>age</th>\n      <th>Gender</th>\n      <th>education</th>\n    </tr>\n  </thead>\n  <tbody>\n    <tr>\n      <th>0</th>\n      <td>1000</td>\n      <td>30</td>\n      <td>45</td>\n      <td>0</td>\n      <td>High School or Below</td>\n    </tr>\n    <tr>\n      <th>1</th>\n      <td>1000</td>\n      <td>30</td>\n      <td>33</td>\n      <td>1</td>\n      <td>Bechalor</td>\n    </tr>\n    <tr>\n      <th>2</th>\n      <td>1000</td>\n      <td>15</td>\n      <td>27</td>\n      <td>0</td>\n      <td>college</td>\n    </tr>\n    <tr>\n      <th>3</th>\n      <td>1000</td>\n      <td>30</td>\n      <td>28</td>\n      <td>1</td>\n      <td>college</td>\n    </tr>\n    <tr>\n      <th>4</th>\n      <td>1000</td>\n      <td>30</td>\n      <td>29</td>\n      <td>0</td>\n      <td>college</td>\n    </tr>\n  </tbody>\n</table>\n</div>"
     },
     "metadata": {}
    }
   ]
  },
  {
   "cell_type": "markdown",
   "source": "#### Use one hot encoding technique to conver categorical varables to binary variables and append them to the feature Data Frame\n",
   "metadata": {
    "button": false,
    "new_sheet": false,
    "run_control": {
     "read_only": false
    },
    "cell_id": "00035-5aff347c-01e9-4480-bd06-d99d33c1ec43",
    "deepnote_cell_type": "markdown",
    "deepnote_cell_height": 78
   }
  },
  {
   "cell_type": "code",
   "metadata": {
    "button": false,
    "new_sheet": false,
    "run_control": {
     "read_only": false
    },
    "cell_id": "00036-617f18e8-179f-4d35-9f1a-f3c779fe8e4f",
    "deepnote_to_be_reexecuted": false,
    "source_hash": "d4079d39",
    "execution_start": 1652130729558,
    "execution_millis": 598,
    "deepnote_cell_type": "code",
    "deepnote_cell_height": 485
   },
   "source": "Feature = df[['Principal','terms','age','Gender','weekend']]\nFeature = pd.concat([Feature,pd.get_dummies(df['education'])], axis=1)\n#Feature.drop(['Master or Above'], axis = 1,inplace=True)\nFeature.head()\n\n",
   "execution_count": 16,
   "outputs": [
    {
     "output_type": "execute_result",
     "execution_count": 16,
     "data": {
      "application/vnd.deepnote.dataframe.v3+json": {
       "column_count": 9,
       "row_count": 5,
       "columns": [
        {
         "name": "Principal",
         "dtype": "int64",
         "stats": {
          "unique_count": 1,
          "nan_count": 0,
          "min": "1000",
          "max": "1000",
          "histogram": [
           {
            "bin_start": 999.5,
            "bin_end": 999.6,
            "count": 0
           },
           {
            "bin_start": 999.6,
            "bin_end": 999.7,
            "count": 0
           },
           {
            "bin_start": 999.7,
            "bin_end": 999.8,
            "count": 0
           },
           {
            "bin_start": 999.8,
            "bin_end": 999.9,
            "count": 0
           },
           {
            "bin_start": 999.9,
            "bin_end": 1000,
            "count": 0
           },
           {
            "bin_start": 1000,
            "bin_end": 1000.1,
            "count": 5
           },
           {
            "bin_start": 1000.1,
            "bin_end": 1000.2,
            "count": 0
           },
           {
            "bin_start": 1000.2,
            "bin_end": 1000.3,
            "count": 0
           },
           {
            "bin_start": 1000.3,
            "bin_end": 1000.4,
            "count": 0
           },
           {
            "bin_start": 1000.4,
            "bin_end": 1000.5,
            "count": 0
           }
          ]
         }
        },
        {
         "name": "terms",
         "dtype": "int64",
         "stats": {
          "unique_count": 2,
          "nan_count": 0,
          "min": "15",
          "max": "30",
          "histogram": [
           {
            "bin_start": 15,
            "bin_end": 16.5,
            "count": 1
           },
           {
            "bin_start": 16.5,
            "bin_end": 18,
            "count": 0
           },
           {
            "bin_start": 18,
            "bin_end": 19.5,
            "count": 0
           },
           {
            "bin_start": 19.5,
            "bin_end": 21,
            "count": 0
           },
           {
            "bin_start": 21,
            "bin_end": 22.5,
            "count": 0
           },
           {
            "bin_start": 22.5,
            "bin_end": 24,
            "count": 0
           },
           {
            "bin_start": 24,
            "bin_end": 25.5,
            "count": 0
           },
           {
            "bin_start": 25.5,
            "bin_end": 27,
            "count": 0
           },
           {
            "bin_start": 27,
            "bin_end": 28.5,
            "count": 0
           },
           {
            "bin_start": 28.5,
            "bin_end": 30,
            "count": 4
           }
          ]
         }
        },
        {
         "name": "age",
         "dtype": "int64",
         "stats": {
          "unique_count": 5,
          "nan_count": 0,
          "min": "27",
          "max": "45",
          "histogram": [
           {
            "bin_start": 27,
            "bin_end": 28.8,
            "count": 2
           },
           {
            "bin_start": 28.8,
            "bin_end": 30.6,
            "count": 1
           },
           {
            "bin_start": 30.6,
            "bin_end": 32.4,
            "count": 0
           },
           {
            "bin_start": 32.4,
            "bin_end": 34.2,
            "count": 1
           },
           {
            "bin_start": 34.2,
            "bin_end": 36,
            "count": 0
           },
           {
            "bin_start": 36,
            "bin_end": 37.8,
            "count": 0
           },
           {
            "bin_start": 37.8,
            "bin_end": 39.6,
            "count": 0
           },
           {
            "bin_start": 39.6,
            "bin_end": 41.4,
            "count": 0
           },
           {
            "bin_start": 41.4,
            "bin_end": 43.2,
            "count": 0
           },
           {
            "bin_start": 43.2,
            "bin_end": 45,
            "count": 1
           }
          ]
         }
        },
        {
         "name": "Gender",
         "dtype": "int64",
         "stats": {
          "unique_count": 2,
          "nan_count": 0,
          "min": "0",
          "max": "1",
          "histogram": [
           {
            "bin_start": 0,
            "bin_end": 0.1,
            "count": 3
           },
           {
            "bin_start": 0.1,
            "bin_end": 0.2,
            "count": 0
           },
           {
            "bin_start": 0.2,
            "bin_end": 0.30000000000000004,
            "count": 0
           },
           {
            "bin_start": 0.30000000000000004,
            "bin_end": 0.4,
            "count": 0
           },
           {
            "bin_start": 0.4,
            "bin_end": 0.5,
            "count": 0
           },
           {
            "bin_start": 0.5,
            "bin_end": 0.6000000000000001,
            "count": 0
           },
           {
            "bin_start": 0.6000000000000001,
            "bin_end": 0.7000000000000001,
            "count": 0
           },
           {
            "bin_start": 0.7000000000000001,
            "bin_end": 0.8,
            "count": 0
           },
           {
            "bin_start": 0.8,
            "bin_end": 0.9,
            "count": 0
           },
           {
            "bin_start": 0.9,
            "bin_end": 1,
            "count": 2
           }
          ]
         }
        },
        {
         "name": "weekend",
         "dtype": "int64",
         "stats": {
          "unique_count": 2,
          "nan_count": 0,
          "min": "0",
          "max": "1",
          "histogram": [
           {
            "bin_start": 0,
            "bin_end": 0.1,
            "count": 3
           },
           {
            "bin_start": 0.1,
            "bin_end": 0.2,
            "count": 0
           },
           {
            "bin_start": 0.2,
            "bin_end": 0.30000000000000004,
            "count": 0
           },
           {
            "bin_start": 0.30000000000000004,
            "bin_end": 0.4,
            "count": 0
           },
           {
            "bin_start": 0.4,
            "bin_end": 0.5,
            "count": 0
           },
           {
            "bin_start": 0.5,
            "bin_end": 0.6000000000000001,
            "count": 0
           },
           {
            "bin_start": 0.6000000000000001,
            "bin_end": 0.7000000000000001,
            "count": 0
           },
           {
            "bin_start": 0.7000000000000001,
            "bin_end": 0.8,
            "count": 0
           },
           {
            "bin_start": 0.8,
            "bin_end": 0.9,
            "count": 0
           },
           {
            "bin_start": 0.9,
            "bin_end": 1,
            "count": 2
           }
          ]
         }
        },
        {
         "name": "Bechalor",
         "dtype": "uint8",
         "stats": {
          "unique_count": 2,
          "nan_count": 0,
          "min": "0",
          "max": "1",
          "histogram": [
           {
            "bin_start": 0,
            "bin_end": 0.1,
            "count": 4
           },
           {
            "bin_start": 0.1,
            "bin_end": 0.2,
            "count": 0
           },
           {
            "bin_start": 0.2,
            "bin_end": 0.30000000000000004,
            "count": 0
           },
           {
            "bin_start": 0.30000000000000004,
            "bin_end": 0.4,
            "count": 0
           },
           {
            "bin_start": 0.4,
            "bin_end": 0.5,
            "count": 0
           },
           {
            "bin_start": 0.5,
            "bin_end": 0.6000000000000001,
            "count": 0
           },
           {
            "bin_start": 0.6000000000000001,
            "bin_end": 0.7000000000000001,
            "count": 0
           },
           {
            "bin_start": 0.7000000000000001,
            "bin_end": 0.8,
            "count": 0
           },
           {
            "bin_start": 0.8,
            "bin_end": 0.9,
            "count": 0
           },
           {
            "bin_start": 0.9,
            "bin_end": 1,
            "count": 1
           }
          ]
         }
        },
        {
         "name": "High School or Below",
         "dtype": "uint8",
         "stats": {
          "unique_count": 2,
          "nan_count": 0,
          "min": "0",
          "max": "1",
          "histogram": [
           {
            "bin_start": 0,
            "bin_end": 0.1,
            "count": 4
           },
           {
            "bin_start": 0.1,
            "bin_end": 0.2,
            "count": 0
           },
           {
            "bin_start": 0.2,
            "bin_end": 0.30000000000000004,
            "count": 0
           },
           {
            "bin_start": 0.30000000000000004,
            "bin_end": 0.4,
            "count": 0
           },
           {
            "bin_start": 0.4,
            "bin_end": 0.5,
            "count": 0
           },
           {
            "bin_start": 0.5,
            "bin_end": 0.6000000000000001,
            "count": 0
           },
           {
            "bin_start": 0.6000000000000001,
            "bin_end": 0.7000000000000001,
            "count": 0
           },
           {
            "bin_start": 0.7000000000000001,
            "bin_end": 0.8,
            "count": 0
           },
           {
            "bin_start": 0.8,
            "bin_end": 0.9,
            "count": 0
           },
           {
            "bin_start": 0.9,
            "bin_end": 1,
            "count": 1
           }
          ]
         }
        },
        {
         "name": "Master or Above",
         "dtype": "uint8",
         "stats": {
          "unique_count": 1,
          "nan_count": 0,
          "min": "0",
          "max": "0",
          "histogram": [
           {
            "bin_start": -0.5,
            "bin_end": -0.4,
            "count": 0
           },
           {
            "bin_start": -0.4,
            "bin_end": -0.3,
            "count": 0
           },
           {
            "bin_start": -0.3,
            "bin_end": -0.19999999999999996,
            "count": 0
           },
           {
            "bin_start": -0.19999999999999996,
            "bin_end": -0.09999999999999998,
            "count": 0
           },
           {
            "bin_start": -0.09999999999999998,
            "bin_end": 0,
            "count": 0
           },
           {
            "bin_start": 0,
            "bin_end": 0.10000000000000009,
            "count": 5
           },
           {
            "bin_start": 0.10000000000000009,
            "bin_end": 0.20000000000000007,
            "count": 0
           },
           {
            "bin_start": 0.20000000000000007,
            "bin_end": 0.30000000000000004,
            "count": 0
           },
           {
            "bin_start": 0.30000000000000004,
            "bin_end": 0.4,
            "count": 0
           },
           {
            "bin_start": 0.4,
            "bin_end": 0.5,
            "count": 0
           }
          ]
         }
        },
        {
         "name": "college",
         "dtype": "uint8",
         "stats": {
          "unique_count": 2,
          "nan_count": 0,
          "min": "0",
          "max": "1",
          "histogram": [
           {
            "bin_start": 0,
            "bin_end": 0.1,
            "count": 2
           },
           {
            "bin_start": 0.1,
            "bin_end": 0.2,
            "count": 0
           },
           {
            "bin_start": 0.2,
            "bin_end": 0.30000000000000004,
            "count": 0
           },
           {
            "bin_start": 0.30000000000000004,
            "bin_end": 0.4,
            "count": 0
           },
           {
            "bin_start": 0.4,
            "bin_end": 0.5,
            "count": 0
           },
           {
            "bin_start": 0.5,
            "bin_end": 0.6000000000000001,
            "count": 0
           },
           {
            "bin_start": 0.6000000000000001,
            "bin_end": 0.7000000000000001,
            "count": 0
           },
           {
            "bin_start": 0.7000000000000001,
            "bin_end": 0.8,
            "count": 0
           },
           {
            "bin_start": 0.8,
            "bin_end": 0.9,
            "count": 0
           },
           {
            "bin_start": 0.9,
            "bin_end": 1,
            "count": 3
           }
          ]
         }
        },
        {
         "name": "_deepnote_index_column",
         "dtype": "int64"
        }
       ],
       "rows": [
        {
         "Principal": 1000,
         "terms": 30,
         "age": 45,
         "Gender": 0,
         "weekend": 0,
         "Bechalor": 0,
         "High School or Below": 1,
         "Master or Above": 0,
         "college": 0,
         "_deepnote_index_column": 0
        },
        {
         "Principal": 1000,
         "terms": 30,
         "age": 33,
         "Gender": 1,
         "weekend": 0,
         "Bechalor": 1,
         "High School or Below": 0,
         "Master or Above": 0,
         "college": 0,
         "_deepnote_index_column": 1
        },
        {
         "Principal": 1000,
         "terms": 15,
         "age": 27,
         "Gender": 0,
         "weekend": 0,
         "Bechalor": 0,
         "High School or Below": 0,
         "Master or Above": 0,
         "college": 1,
         "_deepnote_index_column": 2
        },
        {
         "Principal": 1000,
         "terms": 30,
         "age": 28,
         "Gender": 1,
         "weekend": 1,
         "Bechalor": 0,
         "High School or Below": 0,
         "Master or Above": 0,
         "college": 1,
         "_deepnote_index_column": 3
        },
        {
         "Principal": 1000,
         "terms": 30,
         "age": 29,
         "Gender": 0,
         "weekend": 1,
         "Bechalor": 0,
         "High School or Below": 0,
         "Master or Above": 0,
         "college": 1,
         "_deepnote_index_column": 4
        }
       ]
      },
      "text/plain": "   Principal  terms  age  Gender  weekend  Bechalor  High School or Below  \\\n0       1000     30   45       0        0         0                     1   \n1       1000     30   33       1        0         1                     0   \n2       1000     15   27       0        0         0                     0   \n3       1000     30   28       1        1         0                     0   \n4       1000     30   29       0        1         0                     0   \n\n   Master or Above  college  \n0                0        0  \n1                0        0  \n2                0        1  \n3                0        1  \n4                0        1  ",
      "text/html": "<div>\n<style scoped>\n    .dataframe tbody tr th:only-of-type {\n        vertical-align: middle;\n    }\n\n    .dataframe tbody tr th {\n        vertical-align: top;\n    }\n\n    .dataframe thead th {\n        text-align: right;\n    }\n</style>\n<table border=\"1\" class=\"dataframe\">\n  <thead>\n    <tr style=\"text-align: right;\">\n      <th></th>\n      <th>Principal</th>\n      <th>terms</th>\n      <th>age</th>\n      <th>Gender</th>\n      <th>weekend</th>\n      <th>Bechalor</th>\n      <th>High School or Below</th>\n      <th>Master or Above</th>\n      <th>college</th>\n    </tr>\n  </thead>\n  <tbody>\n    <tr>\n      <th>0</th>\n      <td>1000</td>\n      <td>30</td>\n      <td>45</td>\n      <td>0</td>\n      <td>0</td>\n      <td>0</td>\n      <td>1</td>\n      <td>0</td>\n      <td>0</td>\n    </tr>\n    <tr>\n      <th>1</th>\n      <td>1000</td>\n      <td>30</td>\n      <td>33</td>\n      <td>1</td>\n      <td>0</td>\n      <td>1</td>\n      <td>0</td>\n      <td>0</td>\n      <td>0</td>\n    </tr>\n    <tr>\n      <th>2</th>\n      <td>1000</td>\n      <td>15</td>\n      <td>27</td>\n      <td>0</td>\n      <td>0</td>\n      <td>0</td>\n      <td>0</td>\n      <td>0</td>\n      <td>1</td>\n    </tr>\n    <tr>\n      <th>3</th>\n      <td>1000</td>\n      <td>30</td>\n      <td>28</td>\n      <td>1</td>\n      <td>1</td>\n      <td>0</td>\n      <td>0</td>\n      <td>0</td>\n      <td>1</td>\n    </tr>\n    <tr>\n      <th>4</th>\n      <td>1000</td>\n      <td>30</td>\n      <td>29</td>\n      <td>0</td>\n      <td>1</td>\n      <td>0</td>\n      <td>0</td>\n      <td>0</td>\n      <td>1</td>\n    </tr>\n  </tbody>\n</table>\n</div>"
     },
     "metadata": {}
    }
   ]
  },
  {
   "cell_type": "markdown",
   "source": "### Feature Selection\n",
   "metadata": {
    "button": false,
    "new_sheet": false,
    "run_control": {
     "read_only": false
    },
    "cell_id": "00037-930ffa83-4343-42c0-88f3-8e64b6223029",
    "deepnote_cell_type": "markdown",
    "deepnote_cell_height": 62
   }
  },
  {
   "cell_type": "markdown",
   "source": "Let's define feature sets, X:\n",
   "metadata": {
    "button": false,
    "new_sheet": false,
    "run_control": {
     "read_only": false
    },
    "cell_id": "00038-6fc8dba2-0255-4165-b9ad-bba66fc66404",
    "deepnote_cell_type": "markdown",
    "deepnote_cell_height": 52.390625
   }
  },
  {
   "cell_type": "code",
   "metadata": {
    "button": false,
    "new_sheet": false,
    "run_control": {
     "read_only": false
    },
    "cell_id": "00039-f7d95eb5-98ee-4743-b33d-54f2ecaa0563",
    "deepnote_to_be_reexecuted": false,
    "source_hash": "ff081b3",
    "execution_start": 1652130729663,
    "execution_millis": 494,
    "deepnote_cell_type": "code",
    "deepnote_cell_height": 413
   },
   "source": "X = Feature\nX[0:5]",
   "execution_count": 17,
   "outputs": [
    {
     "output_type": "execute_result",
     "execution_count": 17,
     "data": {
      "application/vnd.deepnote.dataframe.v3+json": {
       "column_count": 9,
       "row_count": 5,
       "columns": [
        {
         "name": "Principal",
         "dtype": "int64",
         "stats": {
          "unique_count": 1,
          "nan_count": 0,
          "min": "1000",
          "max": "1000",
          "histogram": [
           {
            "bin_start": 999.5,
            "bin_end": 999.6,
            "count": 0
           },
           {
            "bin_start": 999.6,
            "bin_end": 999.7,
            "count": 0
           },
           {
            "bin_start": 999.7,
            "bin_end": 999.8,
            "count": 0
           },
           {
            "bin_start": 999.8,
            "bin_end": 999.9,
            "count": 0
           },
           {
            "bin_start": 999.9,
            "bin_end": 1000,
            "count": 0
           },
           {
            "bin_start": 1000,
            "bin_end": 1000.1,
            "count": 5
           },
           {
            "bin_start": 1000.1,
            "bin_end": 1000.2,
            "count": 0
           },
           {
            "bin_start": 1000.2,
            "bin_end": 1000.3,
            "count": 0
           },
           {
            "bin_start": 1000.3,
            "bin_end": 1000.4,
            "count": 0
           },
           {
            "bin_start": 1000.4,
            "bin_end": 1000.5,
            "count": 0
           }
          ]
         }
        },
        {
         "name": "terms",
         "dtype": "int64",
         "stats": {
          "unique_count": 2,
          "nan_count": 0,
          "min": "15",
          "max": "30",
          "histogram": [
           {
            "bin_start": 15,
            "bin_end": 16.5,
            "count": 1
           },
           {
            "bin_start": 16.5,
            "bin_end": 18,
            "count": 0
           },
           {
            "bin_start": 18,
            "bin_end": 19.5,
            "count": 0
           },
           {
            "bin_start": 19.5,
            "bin_end": 21,
            "count": 0
           },
           {
            "bin_start": 21,
            "bin_end": 22.5,
            "count": 0
           },
           {
            "bin_start": 22.5,
            "bin_end": 24,
            "count": 0
           },
           {
            "bin_start": 24,
            "bin_end": 25.5,
            "count": 0
           },
           {
            "bin_start": 25.5,
            "bin_end": 27,
            "count": 0
           },
           {
            "bin_start": 27,
            "bin_end": 28.5,
            "count": 0
           },
           {
            "bin_start": 28.5,
            "bin_end": 30,
            "count": 4
           }
          ]
         }
        },
        {
         "name": "age",
         "dtype": "int64",
         "stats": {
          "unique_count": 5,
          "nan_count": 0,
          "min": "27",
          "max": "45",
          "histogram": [
           {
            "bin_start": 27,
            "bin_end": 28.8,
            "count": 2
           },
           {
            "bin_start": 28.8,
            "bin_end": 30.6,
            "count": 1
           },
           {
            "bin_start": 30.6,
            "bin_end": 32.4,
            "count": 0
           },
           {
            "bin_start": 32.4,
            "bin_end": 34.2,
            "count": 1
           },
           {
            "bin_start": 34.2,
            "bin_end": 36,
            "count": 0
           },
           {
            "bin_start": 36,
            "bin_end": 37.8,
            "count": 0
           },
           {
            "bin_start": 37.8,
            "bin_end": 39.6,
            "count": 0
           },
           {
            "bin_start": 39.6,
            "bin_end": 41.4,
            "count": 0
           },
           {
            "bin_start": 41.4,
            "bin_end": 43.2,
            "count": 0
           },
           {
            "bin_start": 43.2,
            "bin_end": 45,
            "count": 1
           }
          ]
         }
        },
        {
         "name": "Gender",
         "dtype": "int64",
         "stats": {
          "unique_count": 2,
          "nan_count": 0,
          "min": "0",
          "max": "1",
          "histogram": [
           {
            "bin_start": 0,
            "bin_end": 0.1,
            "count": 3
           },
           {
            "bin_start": 0.1,
            "bin_end": 0.2,
            "count": 0
           },
           {
            "bin_start": 0.2,
            "bin_end": 0.30000000000000004,
            "count": 0
           },
           {
            "bin_start": 0.30000000000000004,
            "bin_end": 0.4,
            "count": 0
           },
           {
            "bin_start": 0.4,
            "bin_end": 0.5,
            "count": 0
           },
           {
            "bin_start": 0.5,
            "bin_end": 0.6000000000000001,
            "count": 0
           },
           {
            "bin_start": 0.6000000000000001,
            "bin_end": 0.7000000000000001,
            "count": 0
           },
           {
            "bin_start": 0.7000000000000001,
            "bin_end": 0.8,
            "count": 0
           },
           {
            "bin_start": 0.8,
            "bin_end": 0.9,
            "count": 0
           },
           {
            "bin_start": 0.9,
            "bin_end": 1,
            "count": 2
           }
          ]
         }
        },
        {
         "name": "weekend",
         "dtype": "int64",
         "stats": {
          "unique_count": 2,
          "nan_count": 0,
          "min": "0",
          "max": "1",
          "histogram": [
           {
            "bin_start": 0,
            "bin_end": 0.1,
            "count": 3
           },
           {
            "bin_start": 0.1,
            "bin_end": 0.2,
            "count": 0
           },
           {
            "bin_start": 0.2,
            "bin_end": 0.30000000000000004,
            "count": 0
           },
           {
            "bin_start": 0.30000000000000004,
            "bin_end": 0.4,
            "count": 0
           },
           {
            "bin_start": 0.4,
            "bin_end": 0.5,
            "count": 0
           },
           {
            "bin_start": 0.5,
            "bin_end": 0.6000000000000001,
            "count": 0
           },
           {
            "bin_start": 0.6000000000000001,
            "bin_end": 0.7000000000000001,
            "count": 0
           },
           {
            "bin_start": 0.7000000000000001,
            "bin_end": 0.8,
            "count": 0
           },
           {
            "bin_start": 0.8,
            "bin_end": 0.9,
            "count": 0
           },
           {
            "bin_start": 0.9,
            "bin_end": 1,
            "count": 2
           }
          ]
         }
        },
        {
         "name": "Bechalor",
         "dtype": "uint8",
         "stats": {
          "unique_count": 2,
          "nan_count": 0,
          "min": "0",
          "max": "1",
          "histogram": [
           {
            "bin_start": 0,
            "bin_end": 0.1,
            "count": 4
           },
           {
            "bin_start": 0.1,
            "bin_end": 0.2,
            "count": 0
           },
           {
            "bin_start": 0.2,
            "bin_end": 0.30000000000000004,
            "count": 0
           },
           {
            "bin_start": 0.30000000000000004,
            "bin_end": 0.4,
            "count": 0
           },
           {
            "bin_start": 0.4,
            "bin_end": 0.5,
            "count": 0
           },
           {
            "bin_start": 0.5,
            "bin_end": 0.6000000000000001,
            "count": 0
           },
           {
            "bin_start": 0.6000000000000001,
            "bin_end": 0.7000000000000001,
            "count": 0
           },
           {
            "bin_start": 0.7000000000000001,
            "bin_end": 0.8,
            "count": 0
           },
           {
            "bin_start": 0.8,
            "bin_end": 0.9,
            "count": 0
           },
           {
            "bin_start": 0.9,
            "bin_end": 1,
            "count": 1
           }
          ]
         }
        },
        {
         "name": "High School or Below",
         "dtype": "uint8",
         "stats": {
          "unique_count": 2,
          "nan_count": 0,
          "min": "0",
          "max": "1",
          "histogram": [
           {
            "bin_start": 0,
            "bin_end": 0.1,
            "count": 4
           },
           {
            "bin_start": 0.1,
            "bin_end": 0.2,
            "count": 0
           },
           {
            "bin_start": 0.2,
            "bin_end": 0.30000000000000004,
            "count": 0
           },
           {
            "bin_start": 0.30000000000000004,
            "bin_end": 0.4,
            "count": 0
           },
           {
            "bin_start": 0.4,
            "bin_end": 0.5,
            "count": 0
           },
           {
            "bin_start": 0.5,
            "bin_end": 0.6000000000000001,
            "count": 0
           },
           {
            "bin_start": 0.6000000000000001,
            "bin_end": 0.7000000000000001,
            "count": 0
           },
           {
            "bin_start": 0.7000000000000001,
            "bin_end": 0.8,
            "count": 0
           },
           {
            "bin_start": 0.8,
            "bin_end": 0.9,
            "count": 0
           },
           {
            "bin_start": 0.9,
            "bin_end": 1,
            "count": 1
           }
          ]
         }
        },
        {
         "name": "Master or Above",
         "dtype": "uint8",
         "stats": {
          "unique_count": 1,
          "nan_count": 0,
          "min": "0",
          "max": "0",
          "histogram": [
           {
            "bin_start": -0.5,
            "bin_end": -0.4,
            "count": 0
           },
           {
            "bin_start": -0.4,
            "bin_end": -0.3,
            "count": 0
           },
           {
            "bin_start": -0.3,
            "bin_end": -0.19999999999999996,
            "count": 0
           },
           {
            "bin_start": -0.19999999999999996,
            "bin_end": -0.09999999999999998,
            "count": 0
           },
           {
            "bin_start": -0.09999999999999998,
            "bin_end": 0,
            "count": 0
           },
           {
            "bin_start": 0,
            "bin_end": 0.10000000000000009,
            "count": 5
           },
           {
            "bin_start": 0.10000000000000009,
            "bin_end": 0.20000000000000007,
            "count": 0
           },
           {
            "bin_start": 0.20000000000000007,
            "bin_end": 0.30000000000000004,
            "count": 0
           },
           {
            "bin_start": 0.30000000000000004,
            "bin_end": 0.4,
            "count": 0
           },
           {
            "bin_start": 0.4,
            "bin_end": 0.5,
            "count": 0
           }
          ]
         }
        },
        {
         "name": "college",
         "dtype": "uint8",
         "stats": {
          "unique_count": 2,
          "nan_count": 0,
          "min": "0",
          "max": "1",
          "histogram": [
           {
            "bin_start": 0,
            "bin_end": 0.1,
            "count": 2
           },
           {
            "bin_start": 0.1,
            "bin_end": 0.2,
            "count": 0
           },
           {
            "bin_start": 0.2,
            "bin_end": 0.30000000000000004,
            "count": 0
           },
           {
            "bin_start": 0.30000000000000004,
            "bin_end": 0.4,
            "count": 0
           },
           {
            "bin_start": 0.4,
            "bin_end": 0.5,
            "count": 0
           },
           {
            "bin_start": 0.5,
            "bin_end": 0.6000000000000001,
            "count": 0
           },
           {
            "bin_start": 0.6000000000000001,
            "bin_end": 0.7000000000000001,
            "count": 0
           },
           {
            "bin_start": 0.7000000000000001,
            "bin_end": 0.8,
            "count": 0
           },
           {
            "bin_start": 0.8,
            "bin_end": 0.9,
            "count": 0
           },
           {
            "bin_start": 0.9,
            "bin_end": 1,
            "count": 3
           }
          ]
         }
        },
        {
         "name": "_deepnote_index_column",
         "dtype": "int64"
        }
       ],
       "rows": [
        {
         "Principal": 1000,
         "terms": 30,
         "age": 45,
         "Gender": 0,
         "weekend": 0,
         "Bechalor": 0,
         "High School or Below": 1,
         "Master or Above": 0,
         "college": 0,
         "_deepnote_index_column": 0
        },
        {
         "Principal": 1000,
         "terms": 30,
         "age": 33,
         "Gender": 1,
         "weekend": 0,
         "Bechalor": 1,
         "High School or Below": 0,
         "Master or Above": 0,
         "college": 0,
         "_deepnote_index_column": 1
        },
        {
         "Principal": 1000,
         "terms": 15,
         "age": 27,
         "Gender": 0,
         "weekend": 0,
         "Bechalor": 0,
         "High School or Below": 0,
         "Master or Above": 0,
         "college": 1,
         "_deepnote_index_column": 2
        },
        {
         "Principal": 1000,
         "terms": 30,
         "age": 28,
         "Gender": 1,
         "weekend": 1,
         "Bechalor": 0,
         "High School or Below": 0,
         "Master or Above": 0,
         "college": 1,
         "_deepnote_index_column": 3
        },
        {
         "Principal": 1000,
         "terms": 30,
         "age": 29,
         "Gender": 0,
         "weekend": 1,
         "Bechalor": 0,
         "High School or Below": 0,
         "Master or Above": 0,
         "college": 1,
         "_deepnote_index_column": 4
        }
       ]
      },
      "text/plain": "   Principal  terms  age  Gender  weekend  Bechalor  High School or Below  \\\n0       1000     30   45       0        0         0                     1   \n1       1000     30   33       1        0         1                     0   \n2       1000     15   27       0        0         0                     0   \n3       1000     30   28       1        1         0                     0   \n4       1000     30   29       0        1         0                     0   \n\n   Master or Above  college  \n0                0        0  \n1                0        0  \n2                0        1  \n3                0        1  \n4                0        1  ",
      "text/html": "<div>\n<style scoped>\n    .dataframe tbody tr th:only-of-type {\n        vertical-align: middle;\n    }\n\n    .dataframe tbody tr th {\n        vertical-align: top;\n    }\n\n    .dataframe thead th {\n        text-align: right;\n    }\n</style>\n<table border=\"1\" class=\"dataframe\">\n  <thead>\n    <tr style=\"text-align: right;\">\n      <th></th>\n      <th>Principal</th>\n      <th>terms</th>\n      <th>age</th>\n      <th>Gender</th>\n      <th>weekend</th>\n      <th>Bechalor</th>\n      <th>High School or Below</th>\n      <th>Master or Above</th>\n      <th>college</th>\n    </tr>\n  </thead>\n  <tbody>\n    <tr>\n      <th>0</th>\n      <td>1000</td>\n      <td>30</td>\n      <td>45</td>\n      <td>0</td>\n      <td>0</td>\n      <td>0</td>\n      <td>1</td>\n      <td>0</td>\n      <td>0</td>\n    </tr>\n    <tr>\n      <th>1</th>\n      <td>1000</td>\n      <td>30</td>\n      <td>33</td>\n      <td>1</td>\n      <td>0</td>\n      <td>1</td>\n      <td>0</td>\n      <td>0</td>\n      <td>0</td>\n    </tr>\n    <tr>\n      <th>2</th>\n      <td>1000</td>\n      <td>15</td>\n      <td>27</td>\n      <td>0</td>\n      <td>0</td>\n      <td>0</td>\n      <td>0</td>\n      <td>0</td>\n      <td>1</td>\n    </tr>\n    <tr>\n      <th>3</th>\n      <td>1000</td>\n      <td>30</td>\n      <td>28</td>\n      <td>1</td>\n      <td>1</td>\n      <td>0</td>\n      <td>0</td>\n      <td>0</td>\n      <td>1</td>\n    </tr>\n    <tr>\n      <th>4</th>\n      <td>1000</td>\n      <td>30</td>\n      <td>29</td>\n      <td>0</td>\n      <td>1</td>\n      <td>0</td>\n      <td>0</td>\n      <td>0</td>\n      <td>1</td>\n    </tr>\n  </tbody>\n</table>\n</div>"
     },
     "metadata": {}
    }
   ]
  },
  {
   "cell_type": "markdown",
   "source": "What are our lables?\n",
   "metadata": {
    "button": false,
    "new_sheet": false,
    "run_control": {
     "read_only": false
    },
    "cell_id": "00040-07b48c46-e877-4003-a6c3-d533e7c70b07",
    "deepnote_cell_type": "markdown",
    "deepnote_cell_height": 52.390625
   }
  },
  {
   "cell_type": "code",
   "metadata": {
    "button": false,
    "new_sheet": false,
    "run_control": {
     "read_only": false
    },
    "cell_id": "00041-3a4cb0aa-6203-4e5e-b7ad-7bd0f8a455ee",
    "deepnote_to_be_reexecuted": false,
    "source_hash": "c544f012",
    "execution_start": 1652130729767,
    "execution_millis": 390,
    "deepnote_cell_type": "code",
    "deepnote_cell_height": 155.390625,
    "deepnote_output_heights": [
     40.390625
    ]
   },
   "source": "y = df['loan_status'].values\ny[0:5]",
   "execution_count": 18,
   "outputs": [
    {
     "output_type": "execute_result",
     "execution_count": 18,
     "data": {
      "text/plain": "array(['PAIDOFF', 'PAIDOFF', 'PAIDOFF', 'PAIDOFF', 'PAIDOFF'],\n      dtype=object)"
     },
     "metadata": {}
    }
   ]
  },
  {
   "cell_type": "markdown",
   "source": "## Normalize Data\n",
   "metadata": {
    "button": false,
    "new_sheet": false,
    "run_control": {
     "read_only": false
    },
    "cell_id": "00042-a4aa4417-2302-4b1f-af6e-e2875d8301c4",
    "deepnote_cell_type": "markdown",
    "deepnote_cell_height": 70
   }
  },
  {
   "cell_type": "markdown",
   "source": "Data Standardization give data zero mean and unit variance (technically should be done after train test split)\n",
   "metadata": {
    "button": false,
    "new_sheet": false,
    "run_control": {
     "read_only": false
    },
    "cell_id": "00043-4101330e-4681-47c8-9b6c-ec735b701948",
    "deepnote_cell_type": "markdown",
    "deepnote_cell_height": 52.390625
   }
  },
  {
   "cell_type": "code",
   "metadata": {
    "button": false,
    "new_sheet": false,
    "run_control": {
     "read_only": false
    },
    "cell_id": "00044-907f89b1-0e72-4234-8ba7-4b442db1ae76",
    "deepnote_to_be_reexecuted": false,
    "source_hash": "d0ed1cbe",
    "execution_start": 1652130729794,
    "execution_millis": 369,
    "deepnote_cell_type": "code",
    "deepnote_cell_height": 308.953125,
    "deepnote_output_heights": [
     193.953125
    ]
   },
   "source": "X= preprocessing.StandardScaler().fit(X).transform(X)\nX[0:5]",
   "execution_count": 19,
   "outputs": [
    {
     "output_type": "execute_result",
     "execution_count": 19,
     "data": {
      "text/plain": "array([[ 0.51578458,  0.92071769,  2.33152555, -0.42056004, -1.20577805,\n        -0.38170062,  1.13639374, -0.07624929, -0.86968108],\n       [ 0.51578458,  0.92071769,  0.34170148,  2.37778177, -1.20577805,\n         2.61985426, -0.87997669, -0.07624929, -0.86968108],\n       [ 0.51578458, -0.95911111, -0.65321055, -0.42056004, -1.20577805,\n        -0.38170062, -0.87997669, -0.07624929,  1.14984679],\n       [ 0.51578458,  0.92071769, -0.48739188,  2.37778177,  0.82934003,\n        -0.38170062, -0.87997669, -0.07624929,  1.14984679],\n       [ 0.51578458,  0.92071769, -0.3215732 , -0.42056004,  0.82934003,\n        -0.38170062, -0.87997669, -0.07624929,  1.14984679]])"
     },
     "metadata": {}
    }
   ]
  },
  {
   "cell_type": "markdown",
   "source": "# Classification\n",
   "metadata": {
    "button": false,
    "new_sheet": false,
    "run_control": {
     "read_only": false
    },
    "cell_id": "00045-485f596c-1e66-481a-95c7-16065978c28c",
    "deepnote_cell_type": "markdown",
    "deepnote_cell_height": 82
   }
  },
  {
   "cell_type": "markdown",
   "source": "Now, it is your turn, use the training set to build an accurate model. Then use the test set to report the accuracy of the model\nYou should use the following algorithm:\n\n*   K Nearest Neighbor(KNN)\n*   Decision Tree\n*   Support Vector Machine\n*   Logistic Regression\n\n\\__ Notice:\\__\n\n*   You can go above and change the pre-processing, feature selection, feature-extraction, and so on, to make a better model.\n*   You should use either scikit-learn, Scipy or Numpy libraries for developing the classification algorithms.\n*   You should include the code of the algorithm in the following cells.\n",
   "metadata": {
    "button": false,
    "new_sheet": false,
    "run_control": {
     "read_only": false
    },
    "cell_id": "00046-df8cd0d9-3695-4ba1-b0bf-31eeb168356f",
    "deepnote_cell_type": "markdown",
    "deepnote_cell_height": 324.984375
   }
  },
  {
   "cell_type": "markdown",
   "source": "# K Nearest Neighbor(KNN)\n\nNotice: You should find the best k to build the model with the best accuracy.\\\n**warning:** You should not use the **loan_test.csv** for finding the best k, however, you can split your train_loan.csv into train and test to find the best **k**.\n",
   "metadata": {
    "cell_id": "00047-be05d4e6-55e0-4f22-9c67-e0b2217aecb0",
    "deepnote_cell_type": "markdown",
    "deepnote_cell_height": 165.1875
   }
  },
  {
   "cell_type": "code",
   "metadata": {
    "cell_id": "00048-18c28156-2f06-4465-9af9-898e38224584",
    "deepnote_to_be_reexecuted": false,
    "source_hash": "7ed296c7",
    "execution_start": 1652130729842,
    "execution_millis": 228,
    "deepnote_cell_type": "code",
    "deepnote_cell_height": 153
   },
   "source": "from sklearn.model_selection import train_test_split\nfrom sklearn.neighbors import KNeighborsClassifier\nfrom sklearn import metrics\n\nX_train, X_test, y_train, y_test = train_test_split(X, y, test_size=0.2, random_state=42)",
   "execution_count": 20,
   "outputs": []
  },
  {
   "cell_type": "code",
   "metadata": {
    "cell_id": "00049-2e79eee6-97c4-420f-bd65-6563ecd5f3b7",
    "deepnote_to_be_reexecuted": false,
    "source_hash": "3fcce13c",
    "execution_start": 1652130730079,
    "execution_millis": 610,
    "deepnote_cell_type": "code",
    "deepnote_cell_height": 261
   },
   "source": "K = 50\nmean_acc = np.zeros((K-1))\nstd_acc = np.zeros((K-1))\n\nfor n in range(1,K):\n\n    neigh = KNeighborsClassifier(n_neighbors = n).fit(X_train,y_train)\n    knn_yhat = neigh.predict(X_test)\n\n    mean_acc[n-1] = metrics.accuracy_score(y_test, knn_yhat)\n    std_acc[n-1]=np.std(knn_yhat==y_test)/np.sqrt(knn_yhat.shape[0])",
   "execution_count": 21,
   "outputs": []
  },
  {
   "cell_type": "code",
   "metadata": {
    "cell_id": "00050-3ecea452-ecca-4b76-805d-2776c06b277c",
    "deepnote_to_be_reexecuted": false,
    "source_hash": "9ddbd968",
    "execution_start": 1652130730721,
    "execution_millis": 413,
    "deepnote_cell_type": "code",
    "deepnote_cell_height": 496.6875,
    "deepnote_output_heights": [
     264
    ]
   },
   "source": "plt.plot(range(1,K),mean_acc,'red')\nplt.ylabel('Accuracy ')\nplt.xlabel('Number of Neighbors (K)')\nplt.show()\n\nprint( \"The best accuracy is\", mean_acc.max(), \"with k =\", mean_acc.argmax()+1) ",
   "execution_count": 22,
   "outputs": [
    {
     "data": {
      "text/plain": "<Figure size 432x288 with 1 Axes>",
      "image/png": "[encoded data removed]"
     },
     "metadata": {
      "needs_background": "light",
      "image/png": {
       "width": 398,
       "height": 262
      }
     },
     "output_type": "display_data"
    },
    {
     "name": "stdout",
     "text": "The best accuracy is 0.7857142857142857 with k = 7\n",
     "output_type": "stream"
    }
   ]
  },
  {
   "cell_type": "markdown",
   "source": "# Decision Tree\n",
   "metadata": {
    "cell_id": "00051-9d009115-8a6a-49d1-8628-39035a0b9c25",
    "deepnote_cell_type": "markdown",
    "deepnote_cell_height": 82
   }
  },
  {
   "cell_type": "code",
   "metadata": {
    "cell_id": "00052-177999ac-1782-4395-b641-f1455badca05",
    "deepnote_to_be_reexecuted": false,
    "source_hash": "a033214f",
    "execution_start": 1652130731142,
    "execution_millis": 26,
    "deepnote_cell_type": "code",
    "deepnote_cell_height": 135
   },
   "source": "from sklearn.tree import DecisionTreeClassifier\nimport sklearn.tree as tree\n\nloanTree = DecisionTreeClassifier(criterion=\"entropy\", max_depth = 5)",
   "execution_count": 23,
   "outputs": []
  },
  {
   "cell_type": "code",
   "metadata": {
    "cell_id": "00053-48c81d80-11b4-42e7-82a2-4404fcdb83af",
    "deepnote_to_be_reexecuted": false,
    "source_hash": "25699c1d",
    "execution_start": 1652130731175,
    "execution_millis": 36,
    "deepnote_cell_type": "code",
    "deepnote_cell_height": 147.6875
   },
   "source": "loanTree.fit(X_train,y_train)\npredTree = loanTree.predict(X_test)\nprint(\"Decision tree predicted accuracy score:\", metrics.accuracy_score(y_test, predTree))",
   "execution_count": 24,
   "outputs": [
    {
     "name": "stdout",
     "text": "Decision tree predicted accuracy score: 0.6571428571428571\n",
     "output_type": "stream"
    }
   ]
  },
  {
   "cell_type": "code",
   "metadata": {
    "cell_id": "00054-56146f48-767c-442b-bd9c-cdffd52ffa2b",
    "deepnote_to_be_reexecuted": false,
    "source_hash": "5bba213d",
    "execution_start": 1652130731210,
    "execution_millis": 4209,
    "deepnote_cell_type": "code",
    "deepnote_cell_height": 366,
    "deepnote_output_heights": [
     233
    ]
   },
   "source": "tree.plot_tree(loanTree)\nplt.show()\n",
   "execution_count": 25,
   "outputs": [
    {
     "data": {
      "text/plain": "<Figure size 432x288 with 1 Axes>",
      "image/png": "[encoded data removed]"
     },
     "metadata": {
      "needs_background": "light",
      "image/png": {
       "width": 349,
       "height": 231
      }
     },
     "output_type": "display_data"
    }
   ]
  },
  {
   "cell_type": "markdown",
   "source": "# Support Vector Machine\n",
   "metadata": {
    "cell_id": "00055-94b3c7ed-a930-4e3e-b771-2afc0acb21ea",
    "deepnote_cell_type": "markdown",
    "deepnote_cell_height": 82
   }
  },
  {
   "cell_type": "code",
   "metadata": {
    "cell_id": "00056-8bd7ba18-d735-43cc-95c3-5b3b9c9071f5",
    "deepnote_to_be_reexecuted": false,
    "source_hash": "a34df055",
    "execution_start": 1652130734890,
    "execution_millis": 540,
    "deepnote_cell_type": "code",
    "deepnote_cell_height": 226.1875,
    "deepnote_output_heights": [
     21.1875
    ]
   },
   "source": "from sklearn import svm\nfrom sklearn.metrics import classification_report, confusion_matrix\nimport itertools\n\nclf = svm.SVC(kernel='rbf')\nclf.fit(X_train, y_train) \n",
   "execution_count": 26,
   "outputs": [
    {
     "output_type": "execute_result",
     "execution_count": 26,
     "data": {
      "text/plain": "SVC()"
     },
     "metadata": {}
    }
   ]
  },
  {
   "cell_type": "code",
   "metadata": {
    "cell_id": "00057-d9aec367-3f9d-421e-9271-f8dd629305f7",
    "deepnote_to_be_reexecuted": false,
    "source_hash": "b9c0da47",
    "execution_start": 1652130734944,
    "execution_millis": 492,
    "deepnote_cell_type": "code",
    "deepnote_cell_height": 147.6875
   },
   "source": "y_pred=clf.predict(X_test)\n\nprint(\"SVM predicted accuracy score: \", metrics.accuracy_score(y_test, y_pred))",
   "execution_count": 27,
   "outputs": [
    {
     "name": "stdout",
     "text": "SVM predicted accuracy score:  0.6857142857142857\n",
     "output_type": "stream"
    }
   ]
  },
  {
   "cell_type": "code",
   "metadata": {
    "cell_id": "00058-a7a4c7f7-b37b-49ce-8c76-0bde439156fa",
    "deepnote_to_be_reexecuted": false,
    "source_hash": "b623e53d",
    "execution_start": 1652130734970,
    "execution_millis": 16,
    "deepnote_cell_type": "code",
    "deepnote_cell_height": 81
   },
   "source": "",
   "execution_count": 27,
   "outputs": []
  },
  {
   "cell_type": "markdown",
   "source": "# Logistic Regression\n",
   "metadata": {
    "cell_id": "00059-73585294-9880-49b1-90d7-c351461d4345",
    "deepnote_cell_type": "markdown",
    "deepnote_cell_height": 82
   }
  },
  {
   "cell_type": "code",
   "metadata": {
    "cell_id": "00060-b10a4952-07df-4408-80a8-5e8ae28fac8f",
    "deepnote_to_be_reexecuted": false,
    "source_hash": "ea5e02c3",
    "execution_start": 1652130734989,
    "execution_millis": 459,
    "deepnote_cell_type": "code",
    "deepnote_cell_height": 190.1875,
    "deepnote_output_heights": [
     21.1875
    ]
   },
   "source": "from sklearn.linear_model import LogisticRegression\nfrom sklearn.metrics import confusion_matrix\n\nlogreg = LogisticRegression(C=.01, solver='liblinear').fit(X_train,y_train)\nlogreg",
   "execution_count": 28,
   "outputs": [
    {
     "output_type": "execute_result",
     "execution_count": 28,
     "data": {
      "text/plain": "LogisticRegression(C=0.01, solver='liblinear')"
     },
     "metadata": {}
    }
   ]
  },
  {
   "cell_type": "code",
   "metadata": {
    "cell_id": "00061-567012ca-34d3-4a8b-815a-d820beea66c7",
    "deepnote_to_be_reexecuted": false,
    "source_hash": "4f7e5901",
    "execution_start": 1652130735048,
    "execution_millis": 413,
    "deepnote_cell_type": "code",
    "deepnote_cell_height": 183.6875
   },
   "source": "lr_pred = logreg.predict(X_test)\nlr_prob = logreg.predict_proba(X_test)\n\nprint(\"Logistic regression predicted accuracy score:\", metrics.accuracy_score(y_test, lr_pred))\n",
   "execution_count": 29,
   "outputs": [
    {
     "name": "stdout",
     "text": "Logistic regression predicted accuracy score: 0.7\n",
     "output_type": "stream"
    }
   ]
  },
  {
   "cell_type": "code",
   "metadata": {
    "cell_id": "00062-d7977fd7-816e-4276-9427-1b6cd959277c",
    "deepnote_to_be_reexecuted": false,
    "source_hash": "b623e53d",
    "execution_start": 1652130735049,
    "execution_millis": 1,
    "deepnote_cell_type": "code",
    "deepnote_cell_height": 81
   },
   "source": "",
   "execution_count": 29,
   "outputs": []
  },
  {
   "cell_type": "markdown",
   "source": "# Model Evaluation using Test set\n",
   "metadata": {
    "cell_id": "00063-ab455a6f-a93a-4436-9ee1-585764193fc5",
    "deepnote_cell_type": "markdown",
    "deepnote_cell_height": 82
   }
  },
  {
   "cell_type": "code",
   "metadata": {
    "cell_id": "00064-aedae01a-851c-4f83-8ef9-39da1330cccb",
    "deepnote_to_be_reexecuted": false,
    "source_hash": "dcfdd1e0",
    "execution_start": 1652130735084,
    "execution_millis": 0,
    "deepnote_cell_type": "code",
    "deepnote_cell_height": 135
   },
   "source": "from sklearn.metrics import jaccard_score\nfrom sklearn.metrics import f1_score\nfrom sklearn.metrics import log_loss\n",
   "execution_count": 30,
   "outputs": []
  },
  {
   "cell_type": "markdown",
   "source": "First, download and load the test set:\n",
   "metadata": {
    "cell_id": "00065-7a79a61b-0f59-4a72-9162-39f661795938",
    "deepnote_cell_type": "markdown",
    "deepnote_cell_height": 52.390625
   }
  },
  {
   "cell_type": "code",
   "metadata": {
    "cell_id": "00066-1023ce59-c035-49bb-86a1-3ba1cc2575f7",
    "deepnote_to_be_reexecuted": false,
    "source_hash": "a4dcf73e",
    "execution_start": 1652130735084,
    "execution_millis": 525,
    "deepnote_cell_type": "code",
    "deepnote_cell_height": 313.140625
   },
   "source": "!wget -O loan_test.csv https://s3-api.us-geo.objectstorage.softlayer.net/cf-courses-data/CognitiveClass/ML0101ENv3/labs/loan_test.csv",
   "execution_count": 31,
   "outputs": [
    {
     "name": "stdout",
     "text": "--2022-05-09 21:12:15--  https://s3-api.us-geo.objectstorage.softlayer.net/cf-courses-data/CognitiveClass/ML0101ENv3/labs/loan_test.csv\nResolving s3-api.us-geo.objectstorage.softlayer.net (s3-api.us-geo.objectstorage.softlayer.net)... 67.228.254.196\nConnecting to s3-api.us-geo.objectstorage.softlayer.net (s3-api.us-geo.objectstorage.softlayer.net)|67.228.254.196|:443... connected.\nHTTP request sent, awaiting response... 200 OK\nLength: 3642 (3.6K) [text/csv]\nSaving to: ‘loan_test.csv’\n\nloan_test.csv       100%[===================>]   3.56K  --.-KB/s    in 0s      \n\n2022-05-09 21:12:15 (132 MB/s) - ‘loan_test.csv’ saved [3642/3642]\n\n",
     "output_type": "stream"
    }
   ]
  },
  {
   "cell_type": "markdown",
   "source": "### Load Test set for evaluation\n",
   "metadata": {
    "button": false,
    "new_sheet": false,
    "run_control": {
     "read_only": false
    },
    "cell_id": "00067-dd385764-5f7c-40ee-9bf6-6b2a93d9c37b",
    "deepnote_cell_type": "markdown",
    "deepnote_cell_height": 62
   }
  },
  {
   "cell_type": "code",
   "metadata": {
    "button": false,
    "new_sheet": false,
    "run_control": {
     "read_only": false
    },
    "cell_id": "00068-4369add3-60a3-4435-8711-2322c74d17c4",
    "deepnote_to_be_reexecuted": false,
    "source_hash": "7a6f4f1e",
    "execution_start": 1652130735622,
    "execution_millis": 101,
    "deepnote_cell_type": "code",
    "deepnote_cell_height": 413
   },
   "source": "test_df = pd.read_csv('loan_test.csv')\ntest_df.head()",
   "execution_count": 32,
   "outputs": [
    {
     "output_type": "execute_result",
     "execution_count": 32,
     "data": {
      "application/vnd.deepnote.dataframe.v3+json": {
       "column_count": 10,
       "row_count": 5,
       "columns": [
        {
         "name": "Unnamed: 0",
         "dtype": "int64",
         "stats": {
          "unique_count": 5,
          "nan_count": 0,
          "min": "1",
          "max": "35",
          "histogram": [
           {
            "bin_start": 1,
            "bin_end": 4.4,
            "count": 1
           },
           {
            "bin_start": 4.4,
            "bin_end": 7.8,
            "count": 1
           },
           {
            "bin_start": 7.8,
            "bin_end": 11.2,
            "count": 0
           },
           {
            "bin_start": 11.2,
            "bin_end": 14.6,
            "count": 0
           },
           {
            "bin_start": 14.6,
            "bin_end": 18,
            "count": 0
           },
           {
            "bin_start": 18,
            "bin_end": 21.4,
            "count": 1
           },
           {
            "bin_start": 21.4,
            "bin_end": 24.8,
            "count": 1
           },
           {
            "bin_start": 24.8,
            "bin_end": 28.2,
            "count": 0
           },
           {
            "bin_start": 28.2,
            "bin_end": 31.599999999999998,
            "count": 0
           },
           {
            "bin_start": 31.599999999999998,
            "bin_end": 35,
            "count": 1
           }
          ]
         }
        },
        {
         "name": "Unnamed: 0.1",
         "dtype": "int64",
         "stats": {
          "unique_count": 5,
          "nan_count": 0,
          "min": "1",
          "max": "35",
          "histogram": [
           {
            "bin_start": 1,
            "bin_end": 4.4,
            "count": 1
           },
           {
            "bin_start": 4.4,
            "bin_end": 7.8,
            "count": 1
           },
           {
            "bin_start": 7.8,
            "bin_end": 11.2,
            "count": 0
           },
           {
            "bin_start": 11.2,
            "bin_end": 14.6,
            "count": 0
           },
           {
            "bin_start": 14.6,
            "bin_end": 18,
            "count": 0
           },
           {
            "bin_start": 18,
            "bin_end": 21.4,
            "count": 1
           },
           {
            "bin_start": 21.4,
            "bin_end": 24.8,
            "count": 1
           },
           {
            "bin_start": 24.8,
            "bin_end": 28.2,
            "count": 0
           },
           {
            "bin_start": 28.2,
            "bin_end": 31.599999999999998,
            "count": 0
           },
           {
            "bin_start": 31.599999999999998,
            "bin_end": 35,
            "count": 1
           }
          ]
         }
        },
        {
         "name": "loan_status",
         "dtype": "object",
         "stats": {
          "unique_count": 1,
          "nan_count": 0,
          "categories": [
           {
            "name": "PAIDOFF",
            "count": 5
           }
          ]
         }
        },
        {
         "name": "Principal",
         "dtype": "int64",
         "stats": {
          "unique_count": 3,
          "nan_count": 0,
          "min": "300",
          "max": "1000",
          "histogram": [
           {
            "bin_start": 300,
            "bin_end": 370,
            "count": 1
           },
           {
            "bin_start": 370,
            "bin_end": 440,
            "count": 0
           },
           {
            "bin_start": 440,
            "bin_end": 510,
            "count": 0
           },
           {
            "bin_start": 510,
            "bin_end": 580,
            "count": 0
           },
           {
            "bin_start": 580,
            "bin_end": 650,
            "count": 0
           },
           {
            "bin_start": 650,
            "bin_end": 720,
            "count": 0
           },
           {
            "bin_start": 720,
            "bin_end": 790,
            "count": 0
           },
           {
            "bin_start": 790,
            "bin_end": 860,
            "count": 1
           },
           {
            "bin_start": 860,
            "bin_end": 930,
            "count": 0
           },
           {
            "bin_start": 930,
            "bin_end": 1000,
            "count": 3
           }
          ]
         }
        },
        {
         "name": "terms",
         "dtype": "int64",
         "stats": {
          "unique_count": 3,
          "nan_count": 0,
          "min": "7",
          "max": "30",
          "histogram": [
           {
            "bin_start": 7,
            "bin_end": 9.3,
            "count": 1
           },
           {
            "bin_start": 9.3,
            "bin_end": 11.6,
            "count": 0
           },
           {
            "bin_start": 11.6,
            "bin_end": 13.899999999999999,
            "count": 0
           },
           {
            "bin_start": 13.899999999999999,
            "bin_end": 16.2,
            "count": 1
           },
           {
            "bin_start": 16.2,
            "bin_end": 18.5,
            "count": 0
           },
           {
            "bin_start": 18.5,
            "bin_end": 20.799999999999997,
            "count": 0
           },
           {
            "bin_start": 20.799999999999997,
            "bin_end": 23.099999999999998,
            "count": 0
           },
           {
            "bin_start": 23.099999999999998,
            "bin_end": 25.4,
            "count": 0
           },
           {
            "bin_start": 25.4,
            "bin_end": 27.7,
            "count": 0
           },
           {
            "bin_start": 27.7,
            "bin_end": 30,
            "count": 3
           }
          ]
         }
        },
        {
         "name": "effective_date",
         "dtype": "object",
         "stats": {
          "unique_count": 4,
          "nan_count": 0,
          "categories": [
           {
            "name": "9/10/2016",
            "count": 2
           },
           {
            "name": "9/8/2016",
            "count": 1
           },
           {
            "name": "2 others",
            "count": 2
           }
          ]
         }
        },
        {
         "name": "due_date",
         "dtype": "object",
         "stats": {
          "unique_count": 4,
          "nan_count": 0,
          "categories": [
           {
            "name": "10/9/2016",
            "count": 2
           },
           {
            "name": "10/7/2016",
            "count": 1
           },
           {
            "name": "2 others",
            "count": 2
           }
          ]
         }
        },
        {
         "name": "age",
         "dtype": "int64",
         "stats": {
          "unique_count": 5,
          "nan_count": 0,
          "min": "26",
          "max": "50",
          "histogram": [
           {
            "bin_start": 26,
            "bin_end": 28.4,
            "count": 1
           },
           {
            "bin_start": 28.4,
            "bin_end": 30.8,
            "count": 1
           },
           {
            "bin_start": 30.8,
            "bin_end": 33.2,
            "count": 0
           },
           {
            "bin_start": 33.2,
            "bin_end": 35.6,
            "count": 1
           },
           {
            "bin_start": 35.6,
            "bin_end": 38,
            "count": 0
           },
           {
            "bin_start": 38,
            "bin_end": 40.4,
            "count": 0
           },
           {
            "bin_start": 40.4,
            "bin_end": 42.8,
            "count": 0
           },
           {
            "bin_start": 42.8,
            "bin_end": 45.2,
            "count": 1
           },
           {
            "bin_start": 45.2,
            "bin_end": 47.599999999999994,
            "count": 0
           },
           {
            "bin_start": 47.599999999999994,
            "bin_end": 50,
            "count": 1
           }
          ]
         }
        },
        {
         "name": "education",
         "dtype": "object",
         "stats": {
          "unique_count": 4,
          "nan_count": 0,
          "categories": [
           {
            "name": "Bechalor",
            "count": 2
           },
           {
            "name": "Master or Above",
            "count": 1
           },
           {
            "name": "2 others",
            "count": 2
           }
          ]
         }
        },
        {
         "name": "Gender",
         "dtype": "object",
         "stats": {
          "unique_count": 2,
          "nan_count": 0,
          "categories": [
           {
            "name": "male",
            "count": 3
           },
           {
            "name": "female",
            "count": 2
           }
          ]
         }
        },
        {
         "name": "_deepnote_index_column",
         "dtype": "int64"
        }
       ],
       "rows": [
        {
         "Unnamed: 0": 1,
         "Unnamed: 0.1": 1,
         "loan_status": "PAIDOFF",
         "Principal": 1000,
         "terms": 30,
         "effective_date": "9/8/2016",
         "due_date": "10/7/2016",
         "age": 50,
         "education": "Bechalor",
         "Gender": "female",
         "_deepnote_index_column": 0
        },
        {
         "Unnamed: 0": 5,
         "Unnamed: 0.1": 5,
         "loan_status": "PAIDOFF",
         "Principal": 300,
         "terms": 7,
         "effective_date": "9/9/2016",
         "due_date": "9/15/2016",
         "age": 35,
         "education": "Master or Above",
         "Gender": "male",
         "_deepnote_index_column": 1
        },
        {
         "Unnamed: 0": 21,
         "Unnamed: 0.1": 21,
         "loan_status": "PAIDOFF",
         "Principal": 1000,
         "terms": 30,
         "effective_date": "9/10/2016",
         "due_date": "10/9/2016",
         "age": 43,
         "education": "High School or Below",
         "Gender": "female",
         "_deepnote_index_column": 2
        },
        {
         "Unnamed: 0": 24,
         "Unnamed: 0.1": 24,
         "loan_status": "PAIDOFF",
         "Principal": 1000,
         "terms": 30,
         "effective_date": "9/10/2016",
         "due_date": "10/9/2016",
         "age": 26,
         "education": "college",
         "Gender": "male",
         "_deepnote_index_column": 3
        },
        {
         "Unnamed: 0": 35,
         "Unnamed: 0.1": 35,
         "loan_status": "PAIDOFF",
         "Principal": 800,
         "terms": 15,
         "effective_date": "9/11/2016",
         "due_date": "9/25/2016",
         "age": 29,
         "education": "Bechalor",
         "Gender": "male",
         "_deepnote_index_column": 4
        }
       ]
      },
      "text/plain": "   Unnamed: 0  Unnamed: 0.1 loan_status  Principal  terms effective_date  \\\n0           1             1     PAIDOFF       1000     30       9/8/2016   \n1           5             5     PAIDOFF        300      7       9/9/2016   \n2          21            21     PAIDOFF       1000     30      9/10/2016   \n3          24            24     PAIDOFF       1000     30      9/10/2016   \n4          35            35     PAIDOFF        800     15      9/11/2016   \n\n    due_date  age             education  Gender  \n0  10/7/2016   50              Bechalor  female  \n1  9/15/2016   35       Master or Above    male  \n2  10/9/2016   43  High School or Below  female  \n3  10/9/2016   26               college    male  \n4  9/25/2016   29              Bechalor    male  ",
      "text/html": "<div>\n<style scoped>\n    .dataframe tbody tr th:only-of-type {\n        vertical-align: middle;\n    }\n\n    .dataframe tbody tr th {\n        vertical-align: top;\n    }\n\n    .dataframe thead th {\n        text-align: right;\n    }\n</style>\n<table border=\"1\" class=\"dataframe\">\n  <thead>\n    <tr style=\"text-align: right;\">\n      <th></th>\n      <th>Unnamed: 0</th>\n      <th>Unnamed: 0.1</th>\n      <th>loan_status</th>\n      <th>Principal</th>\n      <th>terms</th>\n      <th>effective_date</th>\n      <th>due_date</th>\n      <th>age</th>\n      <th>education</th>\n      <th>Gender</th>\n    </tr>\n  </thead>\n  <tbody>\n    <tr>\n      <th>0</th>\n      <td>1</td>\n      <td>1</td>\n      <td>PAIDOFF</td>\n      <td>1000</td>\n      <td>30</td>\n      <td>9/8/2016</td>\n      <td>10/7/2016</td>\n      <td>50</td>\n      <td>Bechalor</td>\n      <td>female</td>\n    </tr>\n    <tr>\n      <th>1</th>\n      <td>5</td>\n      <td>5</td>\n      <td>PAIDOFF</td>\n      <td>300</td>\n      <td>7</td>\n      <td>9/9/2016</td>\n      <td>9/15/2016</td>\n      <td>35</td>\n      <td>Master or Above</td>\n      <td>male</td>\n    </tr>\n    <tr>\n      <th>2</th>\n      <td>21</td>\n      <td>21</td>\n      <td>PAIDOFF</td>\n      <td>1000</td>\n      <td>30</td>\n      <td>9/10/2016</td>\n      <td>10/9/2016</td>\n      <td>43</td>\n      <td>High School or Below</td>\n      <td>female</td>\n    </tr>\n    <tr>\n      <th>3</th>\n      <td>24</td>\n      <td>24</td>\n      <td>PAIDOFF</td>\n      <td>1000</td>\n      <td>30</td>\n      <td>9/10/2016</td>\n      <td>10/9/2016</td>\n      <td>26</td>\n      <td>college</td>\n      <td>male</td>\n    </tr>\n    <tr>\n      <th>4</th>\n      <td>35</td>\n      <td>35</td>\n      <td>PAIDOFF</td>\n      <td>800</td>\n      <td>15</td>\n      <td>9/11/2016</td>\n      <td>9/25/2016</td>\n      <td>29</td>\n      <td>Bechalor</td>\n      <td>male</td>\n    </tr>\n  </tbody>\n</table>\n</div>"
     },
     "metadata": {}
    }
   ]
  },
  {
   "cell_type": "code",
   "metadata": {
    "cell_id": "00069-66b7e4cb-61be-45c3-9d99-41b522190b05",
    "deepnote_to_be_reexecuted": false,
    "source_hash": "6ed48062",
    "execution_start": 1652130735730,
    "execution_millis": 90,
    "deepnote_cell_type": "code",
    "deepnote_cell_height": 424.1875,
    "deepnote_output_heights": [
     21.1875
    ]
   },
   "source": "#Pre-process test data to match training data\ntest_df['due_date'] = pd.to_datetime(test_df['due_date'])\ntest_df['effective_date'] = pd.to_datetime(test_df['effective_date'])\ntest_df['dayofweek'] = test_df['effective_date'].dt.dayofweek\ntest_df['weekend'] = test_df['dayofweek'].apply(lambda x: 1 if (x>3)  else 0)\ntest_df['Gender'].replace(to_replace=['male','female'], value=[0,1],inplace=True)\n\nFeature_test = test_df[['Principal','terms','age','Gender','weekend']]\nFeature_test = pd.concat([Feature_test,pd.get_dummies(test_df['education'])], axis=1)\n#Feature.drop(['Master or Above'], axis = 1,inplace=True)\nFeature_test.head()\n\nX_true = Feature_test\nX_true = preprocessing.StandardScaler().fit(X_true).transform(X_true)\ny_true = test_df['loan_status'].values\n\nX_true.shape\n",
   "execution_count": 33,
   "outputs": [
    {
     "output_type": "execute_result",
     "execution_count": 33,
     "data": {
      "text/plain": "(54, 9)"
     },
     "metadata": {}
    }
   ]
  },
  {
   "cell_type": "code",
   "metadata": {
    "cell_id": "00070-643f6f20-74d7-4c18-9773-8373a624c7f7",
    "deepnote_to_be_reexecuted": false,
    "source_hash": "cd705435",
    "execution_start": 1652130753433,
    "execution_millis": 51,
    "deepnote_cell_type": "code",
    "deepnote_cell_height": 531,
    "deepnote_output_heights": [
     21.1875
    ]
   },
   "source": "#KNN Scores\nknn_true = neigh.predict(X_true)\nknn_jaccard = jaccard_score(y_true, knn_true, pos_label='PAIDOFF')\nknn_f1 = f1_score(y_true, knn_true, average='weighted')\n\n\n#Decision Tree Scores\ntree_true = loanTree.predict(X_true)\ntree_jaccard = jaccard_score(y_true, tree_true, pos_label='PAIDOFF')\ntree_f1 = f1_score(y_true, tree_true, average='weighted')\n\n#SVM Tree Scores\nsvm_true = clf.predict(X_true)\nsvm_jaccard = jaccard_score(y_true, svm_true, pos_label='PAIDOFF')\nsvm_f1 = f1_score(y_true, svm_true, average='weighted')\n\n#Logistic Regression Scores\nlr_pred_true = logreg.predict(X_true)\nlr_prob_true = logreg.predict_proba(X_true)\nlr_jaccard = jaccard_score(y_true, lr_pred_true, pos_label='PAIDOFF')\nlr_f1 = f1_score(y_true, lr_pred_true, average='weighted')\nlr_logloss = log_loss(y_true, lr_prob_true)\n\nlist_jaccard=[knn_jaccard, tree_jaccard, svm_jaccard, lr_jaccard]\nlist_f1=[knn_f1, tree_f1, svm_f1, lr_f1]\nlist_log=['NA', 'NA', 'NA', lr_logloss]",
   "execution_count": 35,
   "outputs": []
  },
  {
   "cell_type": "code",
   "metadata": {
    "cell_id": "00071-f6c21bbf-2908-437c-a335-905423a317ab",
    "deepnote_to_be_reexecuted": false,
    "source_hash": "5758ac17",
    "execution_start": 1652131314343,
    "execution_millis": 15,
    "deepnote_cell_type": "code",
    "deepnote_cell_height": 187.078125
   },
   "source": "print(list_jaccard)\nprint(list_f1)\nprint(list_log)",
   "execution_count": 39,
   "outputs": [
    {
     "name": "stdout",
     "text": "[0.7407407407407407, 0.6875, 0.74, 0.78]\n[0.6304176516942475, 0.7187928669410151, 0.7288207747977863, 0.7583503077293734]\n['NA', 'NA', 'NA', 0.5649415729162479]\n",
     "output_type": "stream"
    }
   ]
  },
  {
   "cell_type": "markdown",
   "source": "# Report\n\nYou should be able to report the accuracy of the built model using different evaluation metrics:\n",
   "metadata": {
    "cell_id": "00072-85253e9b-9566-4fa0-bc0c-345ae7c605bd",
    "deepnote_cell_type": "markdown",
    "deepnote_cell_height": 120.390625
   }
  },
  {
   "cell_type": "markdown",
   "source": "| Algorithm          | Jaccard | F1-score | LogLoss |\n| ------------------ | ------- | -------- | ------- |\n| KNN                | 0.7401  | 0.6301   | NA      |\n| Decision Tree      | 0.6875  | 0.7188   | NA      |\n| SVM                | 0.7400  | 0.7288   | NA      |\n| LogisticRegression | 0.7800  | 0.7584   | 0.5649  |\n",
   "metadata": {
    "cell_id": "00073-1d157c4f-79b9-47ed-8daa-d7796388fe1f",
    "deepnote_cell_type": "markdown",
    "deepnote_cell_height": 311.984375
   }
  },
  {
   "cell_type": "markdown",
   "source": "<h2>Want to learn more?</h2>\n\nIBM SPSS Modeler is a comprehensive analytics platform that has many machine learning algorithms. It has been designed to bring predictive intelligence to decisions made by individuals, by groups, by systems – by your enterprise as a whole. A free trial is available through this course, available here: <a href=\"http://cocl.us/ML0101EN-SPSSModeler?utm_medium=Exinfluencer&utm_source=Exinfluencer&utm_content=000026UJ&utm_term=10006555&utm_id=NA-SkillsNetwork-Channel-SkillsNetworkCoursesIBMDeveloperSkillsNetworkML0101ENSkillsNetwork20718538-2022-01-01\">SPSS Modeler</a>\n\nAlso, you can use Watson Studio to run these notebooks faster with bigger datasets. Watson Studio is IBM's leading cloud solution for data scientists, built by data scientists. With Jupyter notebooks, RStudio, Apache Spark and popular libraries pre-packaged in the cloud, Watson Studio enables data scientists to collaborate on their projects without having to install anything. Join the fast-growing community of Watson Studio users today with a free account at <a href=\"https://cocl.us/ML0101EN_DSX?utm_medium=Exinfluencer&utm_source=Exinfluencer&utm_content=000026UJ&utm_term=10006555&utm_id=NA-SkillsNetwork-Channel-SkillsNetworkCoursesIBMDeveloperSkillsNetworkML0101ENSkillsNetwork20718538-2022-01-01\">Watson Studio</a>\n\n<h3>Thanks for completing this lesson!</h3>\n\n<h4>Author:  <a href=\"https://ca.linkedin.com/in/saeedaghabozorgi?utm_medium=Exinfluencer&utm_source=Exinfluencer&utm_content=000026UJ&utm_term=10006555&utm_id=NA-SkillsNetwork-Channel-SkillsNetworkCoursesIBMDeveloperSkillsNetworkML0101ENSkillsNetwork20718538-2022-01-01?utm_medium=Exinfluencer&utm_source=Exinfluencer&utm_content=000026UJ&utm_term=10006555&utm_id=NA-SkillsNetwork-Channel-SkillsNetworkCoursesIBMDeveloperSkillsNetworkML0101ENSkillsNetwork20718538-2022-01-01\">Saeed Aghabozorgi</a></h4>\n<p><a href=\"https://ca.linkedin.com/in/saeedaghabozorgi\">Saeed Aghabozorgi</a>, PhD is a Data Scientist in IBM with a track record of developing enterprise level applications that substantially increases clients’ ability to turn data into actionable knowledge. He is a researcher in data mining field and expert in developing advanced analytic methods like machine learning and statistical modelling on large datasets.</p>\n\n<hr>\n\n## Change Log\n\n| Date (YYYY-MM-DD) | Version | Changed By    | Change Description                                                             |\n| ----------------- | ------- | ------------- | ------------------------------------------------------------------------------ |\n| 2020-10-27        | 2.1     | Lakshmi Holla | Made changes in import statement due to updates in version of  sklearn library |\n| 2020-08-27        | 2.0     | Malika Singla | Added lab to GitLab                                                            |\n\n<hr>\n\n## <h3 align=\"center\"> © IBM Corporation 2020. All rights reserved. <h3/>\n\n<p>\n",
   "metadata": {
    "button": false,
    "new_sheet": false,
    "run_control": {
     "read_only": false
    },
    "cell_id": "00074-1fbe794a-4db0-4017-bb12-25d28888d02b",
    "owner_user_id": "2597c32a-bbdd-4269-a5ea-2bf84e687dad",
    "deepnote_cell_type": "markdown",
    "deepnote_cell_height": 595.171875
   }
  },
  {
   "cell_type": "markdown",
   "source": "<a style='text-decoration:none;line-height:16px;display:flex;color:#5B5B62;padding:10px;justify-content:end;' href='https://deepnote.com?utm_source=created-in-deepnote-cell&projectId=f94f3a3c-5082-4c34-aac6-8b62f305285f' target=\"_blank\">\n<img alt='Created in deepnote.com' style='display:inline;max-height:16px;margin:0px;margin-right:7.5px;' src='data:image/svg+xml;base64,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' > </img>\nCreated in <span style='font-weight:600;margin-left:4px;'>Deepnote</span></a>",
   "metadata": {
    "tags": [],
    "created_in_deepnote_cell": true,
    "deepnote_cell_type": "markdown"
   }
  }
 ],
 "nbformat": 4,
 "nbformat_minor": 2,
 "metadata": {
  "kernelspec": {
   "display_name": "Python 3.9",
   "language": "python",
   "name": "python3"
  },
  "language_info": {
   "codemirror_mode": {
    "name": "ipython",
    "version": 3
   },
   "file_extension": ".py",
   "mimetype": "text/x-python",
   "name": "python",
   "nbconvert_exporter": "python",
   "pygments_lexer": "ipython3",
   "version": "3.9.7"
  },
  "deepnote_notebook_id": "4083a8cc-679a-4964-a478-2834de9c8d44",
  "deepnote": {},
  "deepnote_execution_queue": []
 }
}